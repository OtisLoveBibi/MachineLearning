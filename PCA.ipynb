{
 "cells": [
  {
   "cell_type": "code",
   "execution_count": 1,
   "id": "dcf654dd",
   "metadata": {},
   "outputs": [],
   "source": [
    "import numpy as np\n",
    "import matplotlib.pyplot as plt\n",
    "import matplotlib as mpl"
   ]
  },
  {
   "cell_type": "code",
   "execution_count": 2,
   "id": "c504e9a5",
   "metadata": {},
   "outputs": [],
   "source": [
    "from sklearn.datasets import fetch_openml\n",
    "x, y = fetch_openml('mnist_784', return_X_y=True, version=1, parser='auto')\n",
    "x = np.array(x)"
   ]
  },
  {
   "cell_type": "code",
   "execution_count": 3,
   "id": "b8477f5d",
   "metadata": {},
   "outputs": [
    {
     "data": {
      "text/plain": [
       "(70000, 784)"
      ]
     },
     "execution_count": 3,
     "metadata": {},
     "output_type": "execute_result"
    }
   ],
   "source": [
    "x.shape"
   ]
  },
  {
   "cell_type": "code",
   "execution_count": 4,
   "id": "9de91826",
   "metadata": {},
   "outputs": [
    {
     "data": {
      "image/png": "[encoded data removed]",
      "text/plain": [
       "<Figure size 300x300 with 1 Axes>"
      ]
     },
     "metadata": {},
     "output_type": "display_data"
    }
   ],
   "source": [
    "plt.figure(figsize=(3,3))\n",
    "plt.imshow(x[0].reshape(28, 28), cmap = mpl.cm.binary)\n",
    "plt.show()"
   ]
  },
  {
   "cell_type": "code",
   "execution_count": 5,
   "id": "2cae5787",
   "metadata": {},
   "outputs": [],
   "source": [
    "#PCA\n",
    "\n",
    "from sklearn.decomposition import PCA\n",
    "\n",
    "pca = PCA(n_components=0.95)\n",
    "z = pca.fit_transform(x)"
   ]
  },
  {
   "cell_type": "code",
   "execution_count": 6,
   "id": "3475210b",
   "metadata": {},
   "outputs": [
    {
     "data": {
      "text/plain": [
       "154"
      ]
     },
     "execution_count": 6,
     "metadata": {},
     "output_type": "execute_result"
    }
   ],
   "source": [
    "pca.n_components_"
   ]
  },
  {
   "cell_type": "code",
   "execution_count": 7,
   "id": "a4d85413",
   "metadata": {},
   "outputs": [
    {
     "data": {
      "text/plain": [
       "0.9503499702078613"
      ]
     },
     "execution_count": 7,
     "metadata": {},
     "output_type": "execute_result"
    }
   ],
   "source": [
    "np.sum(pca.explained_variance_ratio_)"
   ]
  },
  {
   "cell_type": "code",
   "execution_count": 8,
   "id": "be6d160b",
   "metadata": {},
   "outputs": [
    {
     "data": {
      "text/plain": [
       "((70000, 784), (70000, 154))"
      ]
     },
     "execution_count": 8,
     "metadata": {},
     "output_type": "execute_result"
    }
   ],
   "source": [
    "x.shape, z.shape"
   ]
  },
  {
   "cell_type": "code",
   "execution_count": 9,
   "id": "7d3968d5",
   "metadata": {},
   "outputs": [
    {
     "data": {
      "text/plain": [
       "(784, 154)"
      ]
     },
     "execution_count": 9,
     "metadata": {},
     "output_type": "execute_result"
    }
   ],
   "source": [
    "wd = pca.components_.T\n",
    "wd.shape"
   ]
  },
  {
   "cell_type": "code",
   "execution_count": 10,
   "id": "874a79c3",
   "metadata": {},
   "outputs": [
    {
     "data": {
      "text/plain": [
       "154"
      ]
     },
     "execution_count": 10,
     "metadata": {},
     "output_type": "execute_result"
    }
   ],
   "source": [
    "s2 = pca.explained_variance_\n",
    "len(s2)"
   ]
  },
  {
   "cell_type": "code",
   "execution_count": 11,
   "id": "a0b0de2a",
   "metadata": {},
   "outputs": [],
   "source": [
    "#Reconstruction"
   ]
  },
  {
   "cell_type": "code",
   "execution_count": 12,
   "id": "c5606e1b",
   "metadata": {},
   "outputs": [],
   "source": [
    "xr = pca.inverse_transform(z)"
   ]
  },
  {
   "cell_type": "code",
   "execution_count": 13,
   "id": "cf229588",
   "metadata": {},
   "outputs": [
    {
     "data": {
      "image/png": "[encoded data removed]",
      "text/plain": [
       "<Figure size 300x300 with 1 Axes>"
      ]
     },
     "metadata": {},
     "output_type": "display_data"
    }
   ],
   "source": [
    "plt.figure(figsize=(3,3))\n",
    "plt.imshow(xr[0].reshape(28,28), cmap = mpl.cm.binary)\n",
    "plt.show()"
   ]
  },
  {
   "cell_type": "code",
   "execution_count": 14,
   "id": "c520041d",
   "metadata": {},
   "outputs": [],
   "source": [
    "#Randomized PCA()"
   ]
  },
  {
   "cell_type": "code",
   "execution_count": 15,
   "id": "2fde490a",
   "metadata": {},
   "outputs": [],
   "source": [
    "rndPca = PCA(n_components=154, svd_solver='randomized', random_state=1)\n",
    "zRnd = rndPca.fit_transform(x)"
   ]
  },
  {
   "cell_type": "code",
   "execution_count": 16,
   "id": "8d1ca8e6",
   "metadata": {},
   "outputs": [],
   "source": [
    "#Reconstruction"
   ]
  },
  {
   "cell_type": "code",
   "execution_count": 17,
   "id": "3d9957e9",
   "metadata": {},
   "outputs": [],
   "source": [
    "xrRnd = rndPca.inverse_transform(zRnd)"
   ]
  },
  {
   "cell_type": "code",
   "execution_count": 18,
   "id": "bbc5d50c",
   "metadata": {},
   "outputs": [
    {
     "data": {
      "image/png": "[encoded data removed]",
      "text/plain": [
       "<Figure size 300x300 with 1 Axes>"
      ]
     },
     "metadata": {},
     "output_type": "display_data"
    }
   ],
   "source": [
    "plt.figure(figsize=(3,3))\n",
    "plt.imshow(xrRnd[0].reshape(28, 28), cmap = mpl.cm.binary)\n",
    "plt.show()"
   ]
  },
  {
   "cell_type": "code",
   "execution_count": 19,
   "id": "2dd7ac56",
   "metadata": {},
   "outputs": [],
   "source": [
    "#IncrementalPCA()"
   ]
  },
  {
   "cell_type": "code",
   "execution_count": 20,
   "id": "48dcc575",
   "metadata": {},
   "outputs": [],
   "source": [
    "from sklearn.decomposition import IncrementalPCA\n",
    "\n",
    "incPca = IncrementalPCA(n_components=154, batch_size=700)\n",
    "zInc = incPca.fit_transform(x)"
   ]
  },
  {
   "cell_type": "code",
   "execution_count": 21,
   "id": "483f0d16",
   "metadata": {},
   "outputs": [],
   "source": [
    "#Reconsturction"
   ]
  },
  {
   "cell_type": "code",
   "execution_count": 22,
   "id": "af2b7949",
   "metadata": {},
   "outputs": [],
   "source": [
    "xrInc = incPca.inverse_transform(zInc)"
   ]
  },
  {
   "cell_type": "code",
   "execution_count": 23,
   "id": "6d855bba",
   "metadata": {},
   "outputs": [
    {
     "data": {
      "image/png": "[encoded data removed]",
      "text/plain": [
       "<Figure size 300x300 with 1 Axes>"
      ]
     },
     "metadata": {},
     "output_type": "display_data"
    }
   ],
   "source": [
    "plt.figure(figsize=(3,3))\n",
    "plt.imshow(xrInc[0].reshape(28,28), cmap=mpl.cm.binary)\n",
    "plt.show()"
   ]
  },
  {
   "cell_type": "code",
   "execution_count": null,
   "id": "bda4add0",
   "metadata": {},
   "outputs": [],
   "source": []
  }
 ],
 "metadata": {
  "kernelspec": {
   "display_name": "Python 3 (ipykernel)",
   "language": "python",
   "name": "python3"
  },
  "language_info": {
   "codemirror_mode": {
    "name": "ipython",
    "version": 3
   },
   "file_extension": ".py",
   "mimetype": "text/x-python",
   "name": "python",
   "nbconvert_exporter": "python",
   "pygments_lexer": "ipython3",
   "version": "3.11.5"
  }
 },
 "nbformat": 4,
 "nbformat_minor": 5
}
