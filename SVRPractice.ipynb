{
 "cells": [
  {
   "cell_type": "code",
   "execution_count": 1,
   "id": "59fbbae6",
   "metadata": {},
   "outputs": [],
   "source": [
    "import pandas as pd\n",
    "data = pd.read_csv('housing.csv')\n",
    "data.dropna(inplace=True)"
   ]
  },
  {
   "cell_type": "code",
   "execution_count": 2,
   "id": "eb6a2f88",
   "metadata": {},
   "outputs": [],
   "source": [
    "from sklearn.model_selection import train_test_split\n",
    "import numpy as np\n",
    "\n",
    "x = np.array(data)[:, :8].astype(np.float32)\n",
    "y = np.array(data)[:, 8].astype(np.float32)\n",
    "xTrain, xTest, yTrain, yTest = train_test_split(x, y, test_size=0.2, random_state=1)"
   ]
  },
  {
   "cell_type": "code",
   "execution_count": 3,
   "id": "cefbde68",
   "metadata": {},
   "outputs": [
    {
     "name": "stdout",
     "output_type": "stream",
     "text": [
      "Degree: 1 => 0.6366218171164233\n",
      "Degree: 2 => 0.6670324939613188\n",
      "Degree: 3 => 0.7090129333170865\n"
     ]
    }
   ],
   "source": [
    "#使用LinearSVR()\n",
    "\n",
    "from sklearn.pipeline import Pipeline\n",
    "from sklearn.preprocessing import PolynomialFeatures, StandardScaler\n",
    "from sklearn.svm import LinearSVR\n",
    "\n",
    "polySvmReg = Pipeline([\n",
    "    ('poly', PolynomialFeatures(degree=2, include_bias=False)),\n",
    "    ('scl', StandardScaler()),\n",
    "    ('polySvm', LinearSVR(max_iter=100000, epsilon=.1, random_state=1, dual='auto', C=10000))\n",
    "])\n",
    "\n",
    "\n",
    "for k in range(1, 4, 1):\n",
    "    polySvmReg.set_params(poly__degree = k)\n",
    "    polySvmReg.fit(xTrain, yTrain)\n",
    "    print('Degree:', k ,'=>', polySvmReg.score(xTest, yTest))"
   ]
  },
  {
   "cell_type": "code",
   "execution_count": 6,
   "id": "ced50245",
   "metadata": {},
   "outputs": [
    {
     "name": "stderr",
     "output_type": "stream",
     "text": [
      "/Users/otis/anaconda3/lib/python3.11/site-packages/sklearn/svm/_base.py:297: ConvergenceWarning: Solver terminated early (max_iter=10000).  Consider pre-processing your data with StandardScaler or MinMaxScaler.\n",
      "  warnings.warn(\n"
     ]
    },
    {
     "name": "stdout",
     "output_type": "stream",
     "text": [
      "Degree: 1 => -17.446091513623532\n"
     ]
    },
    {
     "name": "stderr",
     "output_type": "stream",
     "text": [
      "/Users/otis/anaconda3/lib/python3.11/site-packages/sklearn/svm/_base.py:297: ConvergenceWarning: Solver terminated early (max_iter=10000).  Consider pre-processing your data with StandardScaler or MinMaxScaler.\n",
      "  warnings.warn(\n"
     ]
    },
    {
     "name": "stdout",
     "output_type": "stream",
     "text": [
      "Degree: 2 => -3279.440065434985\n",
      "Degree: 3 => -4.622487648277878e+70\n"
     ]
    }
   ],
   "source": [
    "#使用SVR(kernel='poly')\n",
    "from sklearn.svm import SVR\n",
    "for k in range (1,4,1):\n",
    "    rbfSvrReg = SVR(kernel='poly', degree=k, epsilon=.1, gamma=100000, max_iter=10000)\n",
    "    rbfSvrReg.fit(xTrain, yTrain)\n",
    "    print('Degree:', k, '=>', rbfSvrReg.score(xTest, yTest))"
   ]
  },
  {
   "cell_type": "code",
   "execution_count": null,
   "id": "bcb681e9",
   "metadata": {},
   "outputs": [],
   "source": []
  }
 ],
 "metadata": {
  "kernelspec": {
   "display_name": "Python 3 (ipykernel)",
   "language": "python",
   "name": "python3"
  },
  "language_info": {
   "codemirror_mode": {
    "name": "ipython",
    "version": 3
   },
   "file_extension": ".py",
   "mimetype": "text/x-python",
   "name": "python",
   "nbconvert_exporter": "python",
   "pygments_lexer": "ipython3",
   "version": "3.11.5"
  }
 },
 "nbformat": 4,
 "nbformat_minor": 5
}
