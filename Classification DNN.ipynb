{
 "cells": [
  {
   "cell_type": "code",
   "execution_count": 1,
   "metadata": {},
   "outputs": [],
   "source": [
    "import numpy as np \n",
    "import pandas as pd \n",
    "import matplotlib.pyplot as plt "
   ]
  },
  {
   "cell_type": "markdown",
   "metadata": {},
   "source": [
    "Data"
   ]
  },
  {
   "cell_type": "code",
   "execution_count": 2,
   "metadata": {},
   "outputs": [],
   "source": [
    "from tensorflow.keras.datasets import fashion_mnist\n",
    "(xTrainSet, yTrainSet),(xTest, yTest) = fashion_mnist.load_data()"
   ]
  },
  {
   "cell_type": "code",
   "execution_count": 3,
   "metadata": {},
   "outputs": [
    {
     "data": {
      "text/plain": [
       "((60000, 28, 28), (60000,), (10000, 28, 28), (10000,))"
      ]
     },
     "execution_count": 3,
     "metadata": {},
     "output_type": "execute_result"
    }
   ],
   "source": [
    "xTrainSet.shape, yTrainSet.shape, xTest.shape, yTest.shape"
   ]
  },
  {
   "cell_type": "code",
   "execution_count": 4,
   "metadata": {},
   "outputs": [
    {
     "name": "stdout",
     "output_type": "stream",
     "text": [
      "9\n"
     ]
    },
    {
     "data": {
      "image/png": "[encoded data removed]",
      "text/plain": [
       "<Figure size 640x480 with 1 Axes>"
      ]
     },
     "metadata": {},
     "output_type": "display_data"
    }
   ],
   "source": [
    "i = 0\n",
    "print(yTrainSet[i])\n",
    "plt.imshow(xTrainSet[i], cmap='binary')\n",
    "plt.show()"
   ]
  },
  {
   "cell_type": "code",
   "execution_count": 5,
   "metadata": {},
   "outputs": [],
   "source": [
    "from sklearn.model_selection import train_test_split\n",
    "\n",
    "xTrain, xValid, yTrain, yValid = train_test_split(xTrainSet, yTrainSet, random_state=1)"
   ]
  },
  {
   "cell_type": "code",
   "execution_count": 6,
   "metadata": {},
   "outputs": [],
   "source": [
    "xTrain = xTrain / 255.0\n",
    "xValid = xValid / 255.0\n",
    "xTest = xTest /255"
   ]
  },
  {
   "cell_type": "markdown",
   "metadata": {},
   "source": [
    "Build Model"
   ]
  },
  {
   "cell_type": "code",
   "execution_count": 7,
   "metadata": {},
   "outputs": [],
   "source": [
    "import tensorflow as tf \n",
    "from tensorflow import keras\n",
    "from tensorflow.keras.models import Sequential\n",
    "from tensorflow.keras.layers import Flatten, Dense\n",
    "\n",
    "keras.backend.clear_session()\n",
    "np.random.seed(1)\n",
    "tf.random.set_seed(1)"
   ]
  },
  {
   "cell_type": "code",
   "execution_count": 8,
   "metadata": {},
   "outputs": [],
   "source": [
    "model= Sequential([\n",
    "    Flatten(input_shape=xTrain.shape[1:]),\n",
    "    Dense(units=300, activation='relu'),\n",
    "    Dense(units=200, activation='relu'),\n",
    "    Dense(units=100, activation='relu'),\n",
    "    Dense(units=10, activation='softmax')\n",
    "])"
   ]
  },
  {
   "cell_type": "code",
   "execution_count": 9,
   "metadata": {},
   "outputs": [
    {
     "name": "stdout",
     "output_type": "stream",
     "text": [
      "Model: \"sequential\"\n",
      "_________________________________________________________________\n",
      " Layer (type)                Output Shape              Param #   \n",
      "=================================================================\n",
      " flatten (Flatten)           (None, 784)               0         \n",
      "                                                                 \n",
      " dense (Dense)               (None, 300)               235500    \n",
      "                                                                 \n",
      " dense_1 (Dense)             (None, 200)               60200     \n",
      "                                                                 \n",
      " dense_2 (Dense)             (None, 100)               20100     \n",
      "                                                                 \n",
      " dense_3 (Dense)             (None, 10)                1010      \n",
      "                                                                 \n",
      "=================================================================\n",
      "Total params: 316810 (1.21 MB)\n",
      "Trainable params: 316810 (1.21 MB)\n",
      "Non-trainable params: 0 (0.00 Byte)\n",
      "_________________________________________________________________\n"
     ]
    }
   ],
   "source": [
    "model.summary()"
   ]
  },
  {
   "cell_type": "markdown",
   "metadata": {},
   "source": [
    "Compile"
   ]
  },
  {
   "cell_type": "code",
   "execution_count": 10,
   "metadata": {},
   "outputs": [],
   "source": [
    "model.compile(loss='sparse_categorical_crossentropy', optimizer='sgd', metrics=['accuracy'])"
   ]
  },
  {
   "cell_type": "markdown",
   "metadata": {},
   "source": [
    "Train"
   ]
  },
  {
   "cell_type": "code",
   "execution_count": 11,
   "metadata": {},
   "outputs": [
    {
     "name": "stdout",
     "output_type": "stream",
     "text": [
      "Epoch 1/20\n",
      "1407/1407 [==============================] - 2s 1ms/step - loss: 0.7666 - accuracy: 0.7449 - val_loss: 0.5959 - val_accuracy: 0.7930\n",
      "Epoch 2/20\n",
      "1407/1407 [==============================] - 2s 1ms/step - loss: 0.4937 - accuracy: 0.8281 - val_loss: 0.4965 - val_accuracy: 0.8205\n",
      "Epoch 3/20\n",
      "1407/1407 [==============================] - 2s 1ms/step - loss: 0.4436 - accuracy: 0.8430 - val_loss: 0.4542 - val_accuracy: 0.8363\n",
      "Epoch 4/20\n",
      "1407/1407 [==============================] - 2s 1ms/step - loss: 0.4123 - accuracy: 0.8541 - val_loss: 0.4244 - val_accuracy: 0.8445\n",
      "Epoch 5/20\n",
      "1407/1407 [==============================] - 2s 1ms/step - loss: 0.3912 - accuracy: 0.8612 - val_loss: 0.8400 - val_accuracy: 0.6906\n",
      "Epoch 6/20\n",
      "1407/1407 [==============================] - 1s 1ms/step - loss: 0.3731 - accuracy: 0.8673 - val_loss: 0.6111 - val_accuracy: 0.8003\n",
      "Epoch 7/20\n",
      "1407/1407 [==============================] - 1s 1ms/step - loss: 0.3566 - accuracy: 0.8725 - val_loss: 0.3920 - val_accuracy: 0.8557\n",
      "Epoch 8/20\n",
      "1407/1407 [==============================] - 2s 1ms/step - loss: 0.3457 - accuracy: 0.8764 - val_loss: 0.3974 - val_accuracy: 0.8531\n",
      "Epoch 9/20\n",
      "1407/1407 [==============================] - 2s 1ms/step - loss: 0.3321 - accuracy: 0.8791 - val_loss: 0.3965 - val_accuracy: 0.8568\n",
      "Epoch 10/20\n",
      "1407/1407 [==============================] - 2s 1ms/step - loss: 0.3227 - accuracy: 0.8827 - val_loss: 0.4732 - val_accuracy: 0.8335\n",
      "Epoch 11/20\n",
      "1407/1407 [==============================] - 2s 1ms/step - loss: 0.3136 - accuracy: 0.8855 - val_loss: 0.3452 - val_accuracy: 0.8753\n",
      "Epoch 12/20\n",
      "1407/1407 [==============================] - 1s 1ms/step - loss: 0.3051 - accuracy: 0.8884 - val_loss: 0.4449 - val_accuracy: 0.8344\n",
      "Epoch 13/20\n",
      "1407/1407 [==============================] - 2s 1ms/step - loss: 0.2971 - accuracy: 0.8924 - val_loss: 0.3632 - val_accuracy: 0.8667\n",
      "Epoch 14/20\n",
      "1407/1407 [==============================] - 2s 1ms/step - loss: 0.2883 - accuracy: 0.8956 - val_loss: 0.3312 - val_accuracy: 0.8798\n",
      "Epoch 15/20\n",
      "1407/1407 [==============================] - 2s 1ms/step - loss: 0.2812 - accuracy: 0.8980 - val_loss: 0.3490 - val_accuracy: 0.8715\n",
      "Epoch 16/20\n",
      "1407/1407 [==============================] - 2s 1ms/step - loss: 0.2752 - accuracy: 0.8996 - val_loss: 0.3479 - val_accuracy: 0.8721\n",
      "Epoch 17/20\n",
      "1407/1407 [==============================] - 2s 1ms/step - loss: 0.2688 - accuracy: 0.9020 - val_loss: 0.3623 - val_accuracy: 0.8698\n",
      "Epoch 18/20\n",
      "1407/1407 [==============================] - 2s 1ms/step - loss: 0.2625 - accuracy: 0.9046 - val_loss: 0.3397 - val_accuracy: 0.8773\n",
      "Epoch 19/20\n",
      "1407/1407 [==============================] - 2s 1ms/step - loss: 0.2565 - accuracy: 0.9067 - val_loss: 0.3232 - val_accuracy: 0.8849\n",
      "Epoch 20/20\n",
      "1407/1407 [==============================] - 2s 1ms/step - loss: 0.2500 - accuracy: 0.9078 - val_loss: 0.3207 - val_accuracy: 0.8845\n"
     ]
    }
   ],
   "source": [
    "train = model.fit(xTrain, yTrain, epochs=20, validation_data=(xValid, yValid))"
   ]
  },
  {
   "cell_type": "code",
   "execution_count": 12,
   "metadata": {},
   "outputs": [
    {
     "data": {
      "image/png": "[encoded data removed]",
      "text/plain": [
       "<Figure size 640x480 with 1 Axes>"
      ]
     },
     "metadata": {},
     "output_type": "display_data"
    }
   ],
   "source": [
    "pd.DataFrame(train.history).plot()\n",
    "plt.grid(True)\n",
    "plt.show()"
   ]
  },
  {
   "cell_type": "markdown",
   "metadata": {},
   "source": [
    "Evaluate"
   ]
  },
  {
   "cell_type": "code",
   "execution_count": 13,
   "metadata": {},
   "outputs": [
    {
     "name": "stdout",
     "output_type": "stream",
     "text": [
      "313/313 [==============================] - 0s 855us/step - loss: 0.3556 - accuracy: 0.8761\n"
     ]
    },
    {
     "data": {
      "text/plain": [
       "[0.3555929660797119, 0.8761000037193298]"
      ]
     },
     "execution_count": 13,
     "metadata": {},
     "output_type": "execute_result"
    }
   ],
   "source": [
    "model.evaluate(xTest, yTest)"
   ]
  },
  {
   "cell_type": "markdown",
   "metadata": {},
   "source": [
    "Predict"
   ]
  },
  {
   "cell_type": "code",
   "execution_count": 14,
   "metadata": {},
   "outputs": [
    {
     "name": "stdout",
     "output_type": "stream",
     "text": [
      "313/313 [==============================] - 0s 460us/step\n"
     ]
    },
    {
     "data": {
      "text/plain": [
       "array([[0.  , 0.  , 0.  , 0.  , 0.  , 0.01, 0.  , 0.05, 0.  , 0.93],\n",
       "       [0.  , 0.  , 1.  , 0.  , 0.  , 0.  , 0.  , 0.  , 0.  , 0.  ],\n",
       "       [0.  , 1.  , 0.  , 0.  , 0.  , 0.  , 0.  , 0.  , 0.  , 0.  ]],\n",
       "      dtype=float32)"
      ]
     },
     "execution_count": 14,
     "metadata": {},
     "output_type": "execute_result"
    }
   ],
   "source": [
    "yProba = model.predict(xTest)\n",
    "yProba[:3].round(2)"
   ]
  },
  {
   "cell_type": "code",
   "execution_count": 15,
   "metadata": {},
   "outputs": [
    {
     "data": {
      "text/plain": [
       "array([9, 2, 1])"
      ]
     },
     "execution_count": 15,
     "metadata": {},
     "output_type": "execute_result"
    }
   ],
   "source": [
    "yPred = np.argmax(yProba, axis=1)\n",
    "yPred[:3]"
   ]
  },
  {
   "cell_type": "code",
   "execution_count": 16,
   "metadata": {},
   "outputs": [
    {
     "data": {
      "text/plain": [
       "array([9, 2, 1], dtype=uint8)"
      ]
     },
     "execution_count": 16,
     "metadata": {},
     "output_type": "execute_result"
    }
   ],
   "source": [
    "yTest[:3]"
   ]
  },
  {
   "cell_type": "code",
   "execution_count": 17,
   "metadata": {},
   "outputs": [
    {
     "data": {
      "text/plain": [
       "array([[813,   1,  17,  52,   3,   1, 100,   0,  13,   0],\n",
       "       [  0, 965,   1,  26,   3,   0,   4,   0,   1,   0],\n",
       "       [ 12,   1, 788,  24,  77,   1,  92,   0,   5,   0],\n",
       "       [ 12,   5,   9, 939,  10,   0,  18,   0,   7,   0],\n",
       "       [  0,   0, 103,  61, 734,   0,  94,   0,   8,   0],\n",
       "       [  0,   0,   0,   0,   0, 956,   0,  36,   2,   6],\n",
       "       [111,   1,  73,  44,  51,   0, 701,   0,  19,   0],\n",
       "       [  0,   0,   0,   0,   0,  17,   0, 972,   1,  10],\n",
       "       [  2,   0,   3,   5,   2,   1,   3,   5, 979,   0],\n",
       "       [  0,   0,   0,   0,   0,  16,   1,  68,   1, 914]])"
      ]
     },
     "execution_count": 17,
     "metadata": {},
     "output_type": "execute_result"
    }
   ],
   "source": [
    "from sklearn.metrics import confusion_matrix\n",
    "\n",
    "confusion_matrix(yTest, yPred)"
   ]
  },
  {
   "cell_type": "code",
   "execution_count": null,
   "metadata": {},
   "outputs": [],
   "source": []
  }
 ],
 "metadata": {
  "kernelspec": {
   "display_name": "py312",
   "language": "python",
   "name": "python3"
  },
  "language_info": {
   "codemirror_mode": {
    "name": "ipython",
    "version": 3
   },
   "file_extension": ".py",
   "mimetype": "text/x-python",
   "name": "python",
   "nbconvert_exporter": "python",
   "pygments_lexer": "ipython3",
   "version": "3.11.5"
  }
 },
 "nbformat": 4,
 "nbformat_minor": 2
}
