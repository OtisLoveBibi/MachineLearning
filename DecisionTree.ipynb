{
 "cells": [
  {
   "cell_type": "code",
   "execution_count": 28,
   "id": "d11d99f2",
   "metadata": {},
   "outputs": [],
   "source": [
    "import numpy as np\n",
    "import matplotlib.pyplot as plt\n",
    "import pandas as pd"
   ]
  },
  {
   "cell_type": "code",
   "execution_count": 38,
   "id": "f199cec6",
   "metadata": {},
   "outputs": [],
   "source": [
    "data = pd.read_csv('mnist1.csv')"
   ]
  },
  {
   "cell_type": "code",
   "execution_count": 39,
   "id": "5f69ba75",
   "metadata": {},
   "outputs": [],
   "source": [
    "x = np.array(data)[:, :784]\n",
    "y = np.array(data)[:, 784]"
   ]
  },
  {
   "cell_type": "code",
   "execution_count": 40,
   "id": "a73fcc1a",
   "metadata": {},
   "outputs": [
    {
     "data": {
      "text/plain": [
       "array([[0, 0, 0, ..., 0, 0, 0],\n",
       "       [0, 0, 0, ..., 0, 0, 0],\n",
       "       [0, 0, 0, ..., 0, 0, 0],\n",
       "       ...,\n",
       "       [0, 0, 0, ..., 0, 0, 0],\n",
       "       [0, 0, 0, ..., 0, 0, 0],\n",
       "       [0, 0, 0, ..., 0, 0, 0]])"
      ]
     },
     "execution_count": 40,
     "metadata": {},
     "output_type": "execute_result"
    }
   ],
   "source": [
    "x"
   ]
  },
  {
   "cell_type": "code",
   "execution_count": 41,
   "id": "c49fd6ad",
   "metadata": {},
   "outputs": [
    {
     "data": {
      "text/plain": [
       "array([5, 0, 4, 1, 9, 2, 1, 3, 1, 4, 3, 5, 3, 6, 1, 7, 2, 8, 6, 9, 4, 0,\n",
       "       9, 1, 1, 2, 4, 3, 2, 7, 3, 8, 6, 9, 0, 5, 6, 0, 7, 6, 1, 8, 7, 9,\n",
       "       3, 9, 8, 5, 9, 3, 3, 0, 7, 4, 9, 8, 0, 9, 4, 1, 4, 4, 6, 0, 4, 5,\n",
       "       6, 1, 0, 0, 1, 7, 1, 6, 3, 0, 2, 1, 1, 7, 9, 0, 2, 6, 7, 8, 3, 9,\n",
       "       0, 4, 6, 7, 4, 6, 8, 0, 7, 8, 3, 1, 5, 7, 1, 7, 1, 1, 6, 3, 0, 2,\n",
       "       9, 3, 1, 1, 0, 4, 9, 2, 0, 0, 2, 0, 2, 7, 1, 8, 6, 4, 1, 6, 3, 4,\n",
       "       5, 9, 1, 3, 3, 8, 5, 4, 7, 7, 4, 2, 8, 5, 8, 6, 7, 3, 4, 6, 1, 9,\n",
       "       9, 6, 0, 3, 7, 2, 8, 2, 9, 4, 4, 6, 4, 9, 7, 0, 9, 2, 9, 5, 1, 5,\n",
       "       9, 1, 2, 3, 2, 3, 5, 9, 1, 7, 6, 2, 8, 2, 2, 5, 0, 7, 4, 9, 7, 8,\n",
       "       3, 2, 1, 1, 8, 3, 6, 1, 0, 3, 1, 0, 0, 1, 7, 2, 7, 3, 0, 4, 6, 5,\n",
       "       2, 6, 4, 7, 1, 8, 9, 9, 3, 0, 7, 1, 0, 2, 0, 3, 5, 4, 6, 5, 8, 6,\n",
       "       3, 7, 5, 8, 0, 9, 1, 0, 3, 1, 2, 2, 3, 3, 6, 4, 7, 5, 0, 6, 2, 7,\n",
       "       9, 8, 5, 9, 2, 1, 1, 4, 4, 5, 6, 4, 1, 2, 5, 3, 9, 3, 9, 0, 5, 9,\n",
       "       6, 5, 7, 4, 1, 3, 4, 0, 4, 8, 0, 4, 3, 6, 8, 7, 6, 0, 9, 7, 5, 7,\n",
       "       2, 1, 1, 6, 8, 9, 4, 1, 5, 2, 2, 9, 0, 3, 9, 6, 7, 2, 0, 3, 5, 4,\n",
       "       3, 6, 5, 8, 9, 5, 4, 7, 4, 2, 7, 3, 4, 8, 9, 1, 9, 2, 8, 7, 9, 1,\n",
       "       8, 7, 4, 1, 3, 1, 1, 0, 2, 3, 9, 4, 9, 2, 1, 6, 8, 4, 7, 7, 4, 4,\n",
       "       9, 2, 5, 7, 2, 4, 4, 2, 1, 9, 7, 2, 8, 7, 6, 9, 2, 2, 3, 8, 1, 6,\n",
       "       5, 1, 1, 0, 2, 6, 4, 5, 8, 3, 1, 5, 1, 9, 2, 7, 4, 4, 4, 8, 1, 5,\n",
       "       8, 9, 5, 6, 7, 9, 9, 3, 7, 0, 9, 0, 6, 6, 2, 3, 9, 0, 7, 5, 4, 8,\n",
       "       0, 9, 4, 1, 2, 8, 7, 1, 2, 6, 1, 0, 3, 0, 1, 1, 8, 2, 0, 3, 9, 4,\n",
       "       0, 5, 0, 6, 1, 7, 7, 8, 1, 9, 2, 0, 5, 1, 2, 2, 7, 3, 5, 4, 9, 7,\n",
       "       1, 8, 3, 9, 6, 0, 3, 1, 1, 2, 6, 3, 5, 7, 6, 8, 3, 9, 5, 8, 5, 7,\n",
       "       6, 1, 1, 3, 1, 7, 5, 5, 5, 2, 5, 8, 7, 0, 9, 7, 7, 5, 0, 9, 0, 0,\n",
       "       8, 9, 2, 4, 8, 1, 6, 1, 6, 5, 1, 8, 3, 4, 0, 5, 5, 8, 3, 6, 2, 3,\n",
       "       9, 2, 1, 1, 5, 2, 1, 3, 2, 8, 7, 3, 7, 2, 4, 6, 9, 7, 2, 4, 2, 8,\n",
       "       1, 1, 3, 8, 4, 0, 6, 5, 9, 3, 0, 9, 2, 4, 7, 1, 2, 9, 4, 2, 6, 1,\n",
       "       8, 9, 0, 6, 6, 7, 9, 9, 8, 0, 1, 4, 4, 6, 7, 1, 5, 7, 0, 3, 5, 8,\n",
       "       4, 7, 1, 2, 5, 9, 5, 6, 7, 5, 9, 8, 8, 3, 6, 9, 7, 0, 7, 5, 7, 1,\n",
       "       1, 0, 7, 9, 2, 3, 7, 3, 2, 4, 1, 6, 2, 7, 5, 5, 7, 4, 0, 2, 6, 3,\n",
       "       6, 4, 0, 4, 2, 6, 0, 0, 0, 0, 3, 1, 6, 2, 2, 3, 1, 4, 1, 5, 4, 6,\n",
       "       4, 7, 2, 8, 7, 9, 2, 0, 5, 1, 4, 2, 8, 3, 2, 4, 1, 5, 4, 6, 0, 7,\n",
       "       9, 8, 4, 9, 8, 0, 1, 1, 0, 2, 2, 3, 2, 4, 4, 5, 8, 6, 5, 7, 7, 8,\n",
       "       8, 9, 7, 4, 7, 3, 2, 0, 8, 6, 8, 6, 1, 6, 8, 9, 4, 0, 9, 0, 4, 1,\n",
       "       5, 4, 7, 5, 3, 7, 4, 9, 8, 5, 8, 6, 3, 8, 6, 9, 9, 1, 8, 3, 5, 8,\n",
       "       6, 5, 9, 7, 2, 5, 0, 8, 5, 1, 1, 0, 9, 1, 8, 6, 7, 0, 9, 3, 0, 8,\n",
       "       8, 9, 6, 7, 8, 4, 7, 5, 9, 2, 6, 7, 4, 5, 9, 2, 3, 1, 6, 3, 9, 2,\n",
       "       2, 5, 6, 8, 0, 7, 7, 1, 9, 8, 7, 0, 9, 9, 4, 6, 2, 8, 5, 1, 4, 1,\n",
       "       5, 5, 1, 7, 3, 6, 4, 3, 2, 5, 6, 4, 4, 0, 4, 4, 6, 7, 2, 4, 3, 3,\n",
       "       8, 0, 0, 3, 2, 2, 9, 8, 2, 3, 7, 0, 1, 1, 0, 2, 3, 3, 8, 4, 3, 5,\n",
       "       7, 6, 4, 7, 7, 8, 5, 9, 7, 0, 3, 1, 6, 2, 4, 3, 4, 4, 7, 5, 9, 6,\n",
       "       9, 0, 7, 1, 4, 2, 7, 3, 6, 7, 5, 8, 4, 5, 5, 2, 7, 1, 1, 5, 6, 8,\n",
       "       5, 8, 4, 0, 7, 9, 9, 2, 9, 7, 7, 8, 7, 4, 2, 6, 9, 1, 7, 0, 6, 4,\n",
       "       2, 5, 7, 0, 7, 1, 0, 3, 7, 6, 5, 0, 6, 1, 5, 1, 7, 8, 5, 0, 3, 4,\n",
       "       7, 7, 5, 7, 8, 6, 9, 3, 8, 6, 1, 0, 9, 7, 1, 3, 0, 5, 6, 4, 4, 2,\n",
       "       4, 4, 3, 1, 7, 7, 6, 0, 3, 6])"
      ]
     },
     "execution_count": 41,
     "metadata": {},
     "output_type": "execute_result"
    }
   ],
   "source": [
    "y"
   ]
  },
  {
   "cell_type": "code",
   "execution_count": 42,
   "id": "e79bec51",
   "metadata": {},
   "outputs": [],
   "source": [
    "from sklearn.model_selection import train_test_split\n",
    "xTrain, xTest, yTrain, yTest = train_test_split(x, y, test_size=0.2, random_state=1)"
   ]
  },
  {
   "cell_type": "code",
   "execution_count": 47,
   "id": "8d7417bd",
   "metadata": {},
   "outputs": [
    {
     "name": "stdout",
     "output_type": "stream",
     "text": [
      "Depth=> 1 Train score=> 0.20375 Text score=> 0.165\n",
      "Depth=> 2 Train score=> 0.36 Text score=> 0.245\n",
      "Depth=> 3 Train score=> 0.57 Text score=> 0.535\n",
      "Depth=> 4 Train score=> 0.7475 Text score=> 0.665\n",
      "Depth=> 5 Train score=> 0.83 Text score=> 0.66\n",
      "Depth=> 6 Train score=> 0.9 Text score=> 0.675\n",
      "Depth=> 7 Train score=> 0.95125 Text score=> 0.68\n",
      "Depth=> 8 Train score=> 0.9825 Text score=> 0.645\n",
      "Depth=> 9 Train score=> 0.9925 Text score=> 0.68\n",
      "Depth=> 10 Train score=> 1.0 Text score=> 0.66\n",
      "Depth=> 11 Train score=> 1.0 Text score=> 0.66\n",
      "Depth=> 12 Train score=> 1.0 Text score=> 0.66\n",
      "Depth=> 13 Train score=> 1.0 Text score=> 0.66\n",
      "Depth=> 14 Train score=> 1.0 Text score=> 0.66\n",
      "Depth=> 15 Train score=> 1.0 Text score=> 0.66\n",
      "Depth=> 16 Train score=> 1.0 Text score=> 0.66\n",
      "Depth=> 17 Train score=> 1.0 Text score=> 0.66\n",
      "Depth=> 18 Train score=> 1.0 Text score=> 0.66\n",
      "Depth=> 19 Train score=> 1.0 Text score=> 0.66\n",
      "Depth=> 20 Train score=> 1.0 Text score=> 0.66\n"
     ]
    }
   ],
   "source": [
    "from sklearn.tree import DecisionTreeClassifier\n",
    "for x in range(1,21):\n",
    "    treeClf = DecisionTreeClassifier(max_depth=x, random_state=2)\n",
    "    treeClf.fit(xTrain, yTrain)\n",
    "    print('Depth=>',x,'Train score=>',treeClf.score(xTrain, yTrain),'Text score=>',treeClf.score(xTest, yTest))"
   ]
  },
  {
   "cell_type": "code",
   "execution_count": 12,
   "id": "dc5a1687",
   "metadata": {},
   "outputs": [],
   "source": [
    "data = pd.read_csv('housing.csv')\n",
    "data.dropna(inplace=True)"
   ]
  },
  {
   "cell_type": "code",
   "execution_count": 13,
   "id": "9a5ce678",
   "metadata": {},
   "outputs": [],
   "source": [
    "x = np.array(data)[:, :8].astype(np.float32)\n",
    "y = np.array(data)[:, 8].astype(np.float32)\n",
    "xTrain, xTest, yTrain, yTest = train_test_split(x, y, test_size=0.2, random_state=1)"
   ]
  },
  {
   "cell_type": "code",
   "execution_count": 26,
   "id": "b62b3fd5",
   "metadata": {},
   "outputs": [
    {
     "name": "stdout",
     "output_type": "stream",
     "text": [
      "Depthe=> 1 Train score=> 0.3048606711380317 Test score=> 0.3325686480956922\n",
      "Depthe=> 2 Train score=> 0.4450364459455045 Test score=> 0.455751059791609\n",
      "Depthe=> 3 Train score=> 0.49494655908786034 Test score=> 0.5051084462798621\n",
      "Depthe=> 4 Train score=> 0.5507268584504083 Test score=> 0.560667334553798\n",
      "Depthe=> 5 Train score=> 0.6021087743615683 Test score=> 0.6030666949689425\n",
      "Depthe=> 6 Train score=> 0.6531153164576939 Test score=> 0.6398733605635549\n",
      "Depthe=> 7 Train score=> 0.7073414152875525 Test score=> 0.6866826425305603\n",
      "Depthe=> 8 Train score=> 0.7518482400912494 Test score=> 0.7025051570413231\n",
      "Depthe=> 9 Train score=> 0.7981091495659332 Test score=> 0.7141833427788465\n",
      "Depthe=> 10 Train score=> 0.8373549977138453 Test score=> 0.7144866474727061\n",
      "Depthe=> 11 Train score=> 0.8709312016219761 Test score=> 0.7145881020727289\n",
      "Depthe=> 12 Train score=> 0.9008442104000449 Test score=> 0.7054105313325052\n",
      "Depthe=> 13 Train score=> 0.9282390947994882 Test score=> 0.6966708890967253\n",
      "Depthe=> 14 Train score=> 0.9485323256762137 Test score=> 0.6844315627355678\n",
      "Depthe=> 15 Train score=> 0.9649919398507317 Test score=> 0.6723421077789751\n",
      "Depthe=> 16 Train score=> 0.9764246451632997 Test score=> 0.6573811174765917\n",
      "Depthe=> 17 Train score=> 0.9849985795427407 Test score=> 0.6567394350892746\n",
      "Depthe=> 18 Train score=> 0.9903980584650653 Test score=> 0.6542313488972505\n",
      "Depthe=> 19 Train score=> 0.9941704275810245 Test score=> 0.6430058956966613\n",
      "Depthe=> 20 Train score=> 0.9965233843777616 Test score=> 0.6447864271990473\n"
     ]
    }
   ],
   "source": [
    "from sklearn.tree import DecisionTreeRegressor\n",
    "for x in range(1,21):\n",
    "    treeReg = DecisionTreeRegressor(max_depth=x, random_state=1)\n",
    "    treeReg.fit(xTrain, yTrain)\n",
    "    print('Depthe=>',x,'Train score=>',treeReg.score(xTrain, yTrain),'Test score=>',treeReg.score(xTest, yTest))"
   ]
  },
  {
   "cell_type": "code",
   "execution_count": null,
   "id": "d2969c3a",
   "metadata": {},
   "outputs": [],
   "source": []
  }
 ],
 "metadata": {
  "kernelspec": {
   "display_name": "Python 3 (ipykernel)",
   "language": "python",
   "name": "python3"
  },
  "language_info": {
   "codemirror_mode": {
    "name": "ipython",
    "version": 3
   },
   "file_extension": ".py",
   "mimetype": "text/x-python",
   "name": "python",
   "nbconvert_exporter": "python",
   "pygments_lexer": "ipython3",
   "version": "3.11.5"
  }
 },
 "nbformat": 4,
 "nbformat_minor": 5
}
