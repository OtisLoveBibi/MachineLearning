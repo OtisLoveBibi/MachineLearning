{
 "cells": [
  {
   "cell_type": "code",
   "execution_count": 1,
   "id": "7229a9f1",
   "metadata": {},
   "outputs": [],
   "source": [
    "import numpy as np\n",
    "import matplotlib.pyplot as plt\n",
    "\n",
    "np.random.seed(1)\n",
    "\n",
    "m = 100\n",
    "x1 = 50 + 30 * np.random.rand(m,1)\n",
    "y = 135 + 0.5 * x1 + 3 * np.random.randn(m,1)"
   ]
  },
  {
   "cell_type": "code",
   "execution_count": 3,
   "id": "f89694f0",
   "metadata": {},
   "outputs": [
    {
     "data": {
      "text/plain": [
       "array([[-0.23388437],\n",
       "       [ 0.79634961],\n",
       "       [-1.65000333],\n",
       "       [-0.62345239],\n",
       "       [-1.15190299]])"
      ]
     },
     "execution_count": 3,
     "metadata": {},
     "output_type": "execute_result"
    }
   ],
   "source": [
    "#資料前處理(preprocessing)\n",
    "#Feature標準化\n",
    "\n",
    "from sklearn.preprocessing import StandardScaler\n",
    "\n",
    "scal = StandardScaler()\n",
    "x1Scal = scal.fit_transform(x1)   #將x1的數據標準化\n",
    "\n",
    "x1Scal[:5]"
   ]
  },
  {
   "cell_type": "code",
   "execution_count": 4,
   "id": "5b7223a2",
   "metadata": {},
   "outputs": [
    {
     "data": {
      "text/plain": [
       "(array([64.57633783]), array([8.83204675]))"
      ]
     },
     "execution_count": 4,
     "metadata": {},
     "output_type": "execute_result"
    }
   ],
   "source": [
    "scal.mean_, scal.scale_    #顯示出x1的平均數與標準差"
   ]
  },
  {
   "cell_type": "code",
   "execution_count": 7,
   "id": "8d65c4a9",
   "metadata": {},
   "outputs": [
    {
     "data": {
      "text/plain": [
       "(array([167.51475813]), array([4.15206458]))"
      ]
     },
     "execution_count": 7,
     "metadata": {},
     "output_type": "execute_result"
    }
   ],
   "source": [
    "from sklearn.linear_model import SGDRegressor\n",
    "\n",
    "sgdReg = SGDRegressor(max_iter=1000, tol=1e-3, penalty=None, eta0=.1)       #對函數內參數進行調整：執行1000步，容許誤差值為十的負三次方，學習數率初始值為0.1\n",
    "sgdReg.fit(x1Scal,y.ravel())        #用標準化後的x1與y製作模型，ravel將y從1*100轉化成100*1\n",
    "\n",
    "sgdReg.intercept_, sgdReg.coef_      #顯示出模型內的b與w"
   ]
  },
  {
   "cell_type": "code",
   "execution_count": 8,
   "id": "266b358e",
   "metadata": {},
   "outputs": [],
   "source": [
    "#加入新的x1進行預測\n",
    "\n",
    "x1New = [[50],[80]]\n",
    "x1NewScal = scal.transform(x1New) #將新的x1使用之前已計算出的平均數與標準差進行標準化"
   ]
  },
  {
   "cell_type": "code",
   "execution_count": 9,
   "id": "db68264f",
   "metadata": {},
   "outputs": [
    {
     "data": {
      "text/plain": [
       "array([160.66222465, 174.76563024])"
      ]
     },
     "execution_count": 9,
     "metadata": {},
     "output_type": "execute_result"
    }
   ],
   "source": [
    "sgdReg.predict(x1NewScal)    #使用已經計算出的模型預測y"
   ]
  },
  {
   "cell_type": "code",
   "execution_count": null,
   "id": "df064571",
   "metadata": {},
   "outputs": [],
   "source": []
  }
 ],
 "metadata": {
  "kernelspec": {
   "display_name": "Python 3 (ipykernel)",
   "language": "python",
   "name": "python3"
  },
  "language_info": {
   "codemirror_mode": {
    "name": "ipython",
    "version": 3
   },
   "file_extension": ".py",
   "mimetype": "text/x-python",
   "name": "python",
   "nbconvert_exporter": "python",
   "pygments_lexer": "ipython3",
   "version": "3.11.4"
  }
 },
 "nbformat": 4,
 "nbformat_minor": 5
}
