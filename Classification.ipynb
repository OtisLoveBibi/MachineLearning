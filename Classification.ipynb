{
 "cells": [
  {
   "cell_type": "code",
   "execution_count": 1,
   "id": "bb389773",
   "metadata": {},
   "outputs": [],
   "source": [
    "import numpy as np\n",
    "import matplotlib.pyplot as plt\n",
    "import pandas as pd"
   ]
  },
  {
   "cell_type": "code",
   "execution_count": 3,
   "id": "8372f81e",
   "metadata": {},
   "outputs": [
    {
     "data": {
      "text/plain": [
       "dict_keys(['data', 'target', 'frame', 'categories', 'feature_names', 'target_names', 'DESCR', 'details', 'url'])"
      ]
     },
     "execution_count": 3,
     "metadata": {},
     "output_type": "execute_result"
    }
   ],
   "source": [
    "#Downlad dataset\n",
    "\n",
    "from sklearn.datasets import fetch_openml\n",
    "mnist = fetch_openml('mnist_784', version=1, as_frame=True, parser=\"auto\")  #在新版本中加入parser=\"auto\"來避免警告\n",
    "mnist.keys()"
   ]
  },
  {
   "cell_type": "code",
   "execution_count": 4,
   "id": "c59523e8",
   "metadata": {},
   "outputs": [],
   "source": [
    "X, Y = mnist.data[:1000], mnist.target[:1000]"
   ]
  },
  {
   "cell_type": "code",
   "execution_count": 5,
   "id": "7ac7b3d9",
   "metadata": {},
   "outputs": [],
   "source": [
    "#Store data\n",
    "\n",
    "data = X.copy()\n",
    "data['y'] = Y\n",
    "data.to_csv('mnist.csv')"
   ]
  },
  {
   "cell_type": "code",
   "execution_count": 6,
   "id": "d39b8d44",
   "metadata": {},
   "outputs": [
    {
     "data": {
      "text/html": [
       "<div>\n",
       "<style scoped>\n",
       "    .dataframe tbody tr th:only-of-type {\n",
       "        vertical-align: middle;\n",
       "    }\n",
       "\n",
       "    .dataframe tbody tr th {\n",
       "        vertical-align: top;\n",
       "    }\n",
       "\n",
       "    .dataframe thead th {\n",
       "        text-align: right;\n",
       "    }\n",
       "</style>\n",
       "<table border=\"1\" class=\"dataframe\">\n",
       "  <thead>\n",
       "    <tr style=\"text-align: right;\">\n",
       "      <th></th>\n",
       "      <th>pixel1</th>\n",
       "      <th>pixel2</th>\n",
       "      <th>pixel3</th>\n",
       "      <th>pixel4</th>\n",
       "      <th>pixel5</th>\n",
       "      <th>pixel6</th>\n",
       "      <th>pixel7</th>\n",
       "      <th>pixel8</th>\n",
       "      <th>pixel9</th>\n",
       "      <th>pixel10</th>\n",
       "      <th>...</th>\n",
       "      <th>pixel775</th>\n",
       "      <th>pixel776</th>\n",
       "      <th>pixel777</th>\n",
       "      <th>pixel778</th>\n",
       "      <th>pixel779</th>\n",
       "      <th>pixel780</th>\n",
       "      <th>pixel781</th>\n",
       "      <th>pixel782</th>\n",
       "      <th>pixel783</th>\n",
       "      <th>pixel784</th>\n",
       "    </tr>\n",
       "  </thead>\n",
       "  <tbody>\n",
       "    <tr>\n",
       "      <th>0</th>\n",
       "      <td>0</td>\n",
       "      <td>0</td>\n",
       "      <td>0</td>\n",
       "      <td>0</td>\n",
       "      <td>0</td>\n",
       "      <td>0</td>\n",
       "      <td>0</td>\n",
       "      <td>0</td>\n",
       "      <td>0</td>\n",
       "      <td>0</td>\n",
       "      <td>...</td>\n",
       "      <td>0</td>\n",
       "      <td>0</td>\n",
       "      <td>0</td>\n",
       "      <td>0</td>\n",
       "      <td>0</td>\n",
       "      <td>0</td>\n",
       "      <td>0</td>\n",
       "      <td>0</td>\n",
       "      <td>0</td>\n",
       "      <td>0</td>\n",
       "    </tr>\n",
       "    <tr>\n",
       "      <th>1</th>\n",
       "      <td>0</td>\n",
       "      <td>0</td>\n",
       "      <td>0</td>\n",
       "      <td>0</td>\n",
       "      <td>0</td>\n",
       "      <td>0</td>\n",
       "      <td>0</td>\n",
       "      <td>0</td>\n",
       "      <td>0</td>\n",
       "      <td>0</td>\n",
       "      <td>...</td>\n",
       "      <td>0</td>\n",
       "      <td>0</td>\n",
       "      <td>0</td>\n",
       "      <td>0</td>\n",
       "      <td>0</td>\n",
       "      <td>0</td>\n",
       "      <td>0</td>\n",
       "      <td>0</td>\n",
       "      <td>0</td>\n",
       "      <td>0</td>\n",
       "    </tr>\n",
       "    <tr>\n",
       "      <th>2</th>\n",
       "      <td>0</td>\n",
       "      <td>0</td>\n",
       "      <td>0</td>\n",
       "      <td>0</td>\n",
       "      <td>0</td>\n",
       "      <td>0</td>\n",
       "      <td>0</td>\n",
       "      <td>0</td>\n",
       "      <td>0</td>\n",
       "      <td>0</td>\n",
       "      <td>...</td>\n",
       "      <td>0</td>\n",
       "      <td>0</td>\n",
       "      <td>0</td>\n",
       "      <td>0</td>\n",
       "      <td>0</td>\n",
       "      <td>0</td>\n",
       "      <td>0</td>\n",
       "      <td>0</td>\n",
       "      <td>0</td>\n",
       "      <td>0</td>\n",
       "    </tr>\n",
       "    <tr>\n",
       "      <th>3</th>\n",
       "      <td>0</td>\n",
       "      <td>0</td>\n",
       "      <td>0</td>\n",
       "      <td>0</td>\n",
       "      <td>0</td>\n",
       "      <td>0</td>\n",
       "      <td>0</td>\n",
       "      <td>0</td>\n",
       "      <td>0</td>\n",
       "      <td>0</td>\n",
       "      <td>...</td>\n",
       "      <td>0</td>\n",
       "      <td>0</td>\n",
       "      <td>0</td>\n",
       "      <td>0</td>\n",
       "      <td>0</td>\n",
       "      <td>0</td>\n",
       "      <td>0</td>\n",
       "      <td>0</td>\n",
       "      <td>0</td>\n",
       "      <td>0</td>\n",
       "    </tr>\n",
       "    <tr>\n",
       "      <th>4</th>\n",
       "      <td>0</td>\n",
       "      <td>0</td>\n",
       "      <td>0</td>\n",
       "      <td>0</td>\n",
       "      <td>0</td>\n",
       "      <td>0</td>\n",
       "      <td>0</td>\n",
       "      <td>0</td>\n",
       "      <td>0</td>\n",
       "      <td>0</td>\n",
       "      <td>...</td>\n",
       "      <td>0</td>\n",
       "      <td>0</td>\n",
       "      <td>0</td>\n",
       "      <td>0</td>\n",
       "      <td>0</td>\n",
       "      <td>0</td>\n",
       "      <td>0</td>\n",
       "      <td>0</td>\n",
       "      <td>0</td>\n",
       "      <td>0</td>\n",
       "    </tr>\n",
       "    <tr>\n",
       "      <th>...</th>\n",
       "      <td>...</td>\n",
       "      <td>...</td>\n",
       "      <td>...</td>\n",
       "      <td>...</td>\n",
       "      <td>...</td>\n",
       "      <td>...</td>\n",
       "      <td>...</td>\n",
       "      <td>...</td>\n",
       "      <td>...</td>\n",
       "      <td>...</td>\n",
       "      <td>...</td>\n",
       "      <td>...</td>\n",
       "      <td>...</td>\n",
       "      <td>...</td>\n",
       "      <td>...</td>\n",
       "      <td>...</td>\n",
       "      <td>...</td>\n",
       "      <td>...</td>\n",
       "      <td>...</td>\n",
       "      <td>...</td>\n",
       "      <td>...</td>\n",
       "    </tr>\n",
       "    <tr>\n",
       "      <th>995</th>\n",
       "      <td>0</td>\n",
       "      <td>0</td>\n",
       "      <td>0</td>\n",
       "      <td>0</td>\n",
       "      <td>0</td>\n",
       "      <td>0</td>\n",
       "      <td>0</td>\n",
       "      <td>0</td>\n",
       "      <td>0</td>\n",
       "      <td>0</td>\n",
       "      <td>...</td>\n",
       "      <td>0</td>\n",
       "      <td>0</td>\n",
       "      <td>0</td>\n",
       "      <td>0</td>\n",
       "      <td>0</td>\n",
       "      <td>0</td>\n",
       "      <td>0</td>\n",
       "      <td>0</td>\n",
       "      <td>0</td>\n",
       "      <td>0</td>\n",
       "    </tr>\n",
       "    <tr>\n",
       "      <th>996</th>\n",
       "      <td>0</td>\n",
       "      <td>0</td>\n",
       "      <td>0</td>\n",
       "      <td>0</td>\n",
       "      <td>0</td>\n",
       "      <td>0</td>\n",
       "      <td>0</td>\n",
       "      <td>0</td>\n",
       "      <td>0</td>\n",
       "      <td>0</td>\n",
       "      <td>...</td>\n",
       "      <td>0</td>\n",
       "      <td>0</td>\n",
       "      <td>0</td>\n",
       "      <td>0</td>\n",
       "      <td>0</td>\n",
       "      <td>0</td>\n",
       "      <td>0</td>\n",
       "      <td>0</td>\n",
       "      <td>0</td>\n",
       "      <td>0</td>\n",
       "    </tr>\n",
       "    <tr>\n",
       "      <th>997</th>\n",
       "      <td>0</td>\n",
       "      <td>0</td>\n",
       "      <td>0</td>\n",
       "      <td>0</td>\n",
       "      <td>0</td>\n",
       "      <td>0</td>\n",
       "      <td>0</td>\n",
       "      <td>0</td>\n",
       "      <td>0</td>\n",
       "      <td>0</td>\n",
       "      <td>...</td>\n",
       "      <td>0</td>\n",
       "      <td>0</td>\n",
       "      <td>0</td>\n",
       "      <td>0</td>\n",
       "      <td>0</td>\n",
       "      <td>0</td>\n",
       "      <td>0</td>\n",
       "      <td>0</td>\n",
       "      <td>0</td>\n",
       "      <td>0</td>\n",
       "    </tr>\n",
       "    <tr>\n",
       "      <th>998</th>\n",
       "      <td>0</td>\n",
       "      <td>0</td>\n",
       "      <td>0</td>\n",
       "      <td>0</td>\n",
       "      <td>0</td>\n",
       "      <td>0</td>\n",
       "      <td>0</td>\n",
       "      <td>0</td>\n",
       "      <td>0</td>\n",
       "      <td>0</td>\n",
       "      <td>...</td>\n",
       "      <td>0</td>\n",
       "      <td>0</td>\n",
       "      <td>0</td>\n",
       "      <td>0</td>\n",
       "      <td>0</td>\n",
       "      <td>0</td>\n",
       "      <td>0</td>\n",
       "      <td>0</td>\n",
       "      <td>0</td>\n",
       "      <td>0</td>\n",
       "    </tr>\n",
       "    <tr>\n",
       "      <th>999</th>\n",
       "      <td>0</td>\n",
       "      <td>0</td>\n",
       "      <td>0</td>\n",
       "      <td>0</td>\n",
       "      <td>0</td>\n",
       "      <td>0</td>\n",
       "      <td>0</td>\n",
       "      <td>0</td>\n",
       "      <td>0</td>\n",
       "      <td>0</td>\n",
       "      <td>...</td>\n",
       "      <td>0</td>\n",
       "      <td>0</td>\n",
       "      <td>0</td>\n",
       "      <td>0</td>\n",
       "      <td>0</td>\n",
       "      <td>0</td>\n",
       "      <td>0</td>\n",
       "      <td>0</td>\n",
       "      <td>0</td>\n",
       "      <td>0</td>\n",
       "    </tr>\n",
       "  </tbody>\n",
       "</table>\n",
       "<p>1000 rows × 784 columns</p>\n",
       "</div>"
      ],
      "text/plain": [
       "     pixel1  pixel2  pixel3  pixel4  pixel5  pixel6  pixel7  pixel8  pixel9  \\\n",
       "0         0       0       0       0       0       0       0       0       0   \n",
       "1         0       0       0       0       0       0       0       0       0   \n",
       "2         0       0       0       0       0       0       0       0       0   \n",
       "3         0       0       0       0       0       0       0       0       0   \n",
       "4         0       0       0       0       0       0       0       0       0   \n",
       "..      ...     ...     ...     ...     ...     ...     ...     ...     ...   \n",
       "995       0       0       0       0       0       0       0       0       0   \n",
       "996       0       0       0       0       0       0       0       0       0   \n",
       "997       0       0       0       0       0       0       0       0       0   \n",
       "998       0       0       0       0       0       0       0       0       0   \n",
       "999       0       0       0       0       0       0       0       0       0   \n",
       "\n",
       "     pixel10  ...  pixel775  pixel776  pixel777  pixel778  pixel779  pixel780  \\\n",
       "0          0  ...         0         0         0         0         0         0   \n",
       "1          0  ...         0         0         0         0         0         0   \n",
       "2          0  ...         0         0         0         0         0         0   \n",
       "3          0  ...         0         0         0         0         0         0   \n",
       "4          0  ...         0         0         0         0         0         0   \n",
       "..       ...  ...       ...       ...       ...       ...       ...       ...   \n",
       "995        0  ...         0         0         0         0         0         0   \n",
       "996        0  ...         0         0         0         0         0         0   \n",
       "997        0  ...         0         0         0         0         0         0   \n",
       "998        0  ...         0         0         0         0         0         0   \n",
       "999        0  ...         0         0         0         0         0         0   \n",
       "\n",
       "     pixel781  pixel782  pixel783  pixel784  \n",
       "0           0         0         0         0  \n",
       "1           0         0         0         0  \n",
       "2           0         0         0         0  \n",
       "3           0         0         0         0  \n",
       "4           0         0         0         0  \n",
       "..        ...       ...       ...       ...  \n",
       "995         0         0         0         0  \n",
       "996         0         0         0         0  \n",
       "997         0         0         0         0  \n",
       "998         0         0         0         0  \n",
       "999         0         0         0         0  \n",
       "\n",
       "[1000 rows x 784 columns]"
      ]
     },
     "execution_count": 6,
     "metadata": {},
     "output_type": "execute_result"
    }
   ],
   "source": [
    "X"
   ]
  },
  {
   "cell_type": "code",
   "execution_count": 7,
   "id": "5549ddb0",
   "metadata": {},
   "outputs": [
    {
     "data": {
      "text/plain": [
       "0      5\n",
       "1      0\n",
       "2      4\n",
       "3      1\n",
       "4      9\n",
       "      ..\n",
       "995    7\n",
       "996    6\n",
       "997    0\n",
       "998    3\n",
       "999    6\n",
       "Name: class, Length: 1000, dtype: category\n",
       "Categories (10, object): ['0', '1', '2', '3', ..., '6', '7', '8', '9']"
      ]
     },
     "execution_count": 7,
     "metadata": {},
     "output_type": "execute_result"
    }
   ],
   "source": [
    "Y"
   ]
  },
  {
   "cell_type": "code",
   "execution_count": 8,
   "id": "172c5afb",
   "metadata": {},
   "outputs": [
    {
     "data": {
      "text/plain": [
       "class\n",
       "7    117\n",
       "1    116\n",
       "4    105\n",
       "9    100\n",
       "2     99\n",
       "0     97\n",
       "6     94\n",
       "3     93\n",
       "5     92\n",
       "8     87\n",
       "Name: count, dtype: int64"
      ]
     },
     "execution_count": 8,
     "metadata": {},
     "output_type": "execute_result"
    }
   ],
   "source": [
    "Y.value_counts()"
   ]
  },
  {
   "cell_type": "code",
   "execution_count": 10,
   "id": "72b55aeb",
   "metadata": {},
   "outputs": [],
   "source": [
    "#Set trainsets & testsets\n",
    "\n",
    "x = np.array(X)\n",
    "y = np.array(Y)"
   ]
  },
  {
   "cell_type": "code",
   "execution_count": 11,
   "id": "e0f95298",
   "metadata": {},
   "outputs": [],
   "source": [
    "from sklearn.model_selection import train_test_split\n",
    "\n",
    "xTrain, xTest, yTrain, yTest = train_test_split(x, y, test_size=.3, stratify=y, random_state=1)"
   ]
  },
  {
   "cell_type": "code",
   "execution_count": 12,
   "id": "a3686de7",
   "metadata": {},
   "outputs": [
    {
     "data": {
      "text/plain": [
       "((700, 784), (300, 784), (700,), (300,))"
      ]
     },
     "execution_count": 12,
     "metadata": {},
     "output_type": "execute_result"
    }
   ],
   "source": [
    "xTrain.shape, xTest.shape, yTrain.shape, yTest.shape"
   ]
  },
  {
   "cell_type": "code",
   "execution_count": 14,
   "id": "7e96c455",
   "metadata": {},
   "outputs": [
    {
     "data": {
      "image/png": "[encoded data removed]",
      "text/plain": [
       "<Figure size 640x480 with 1 Axes>"
      ]
     },
     "metadata": {},
     "output_type": "display_data"
    }
   ],
   "source": [
    "#檢視訓練資料\n",
    "\n",
    "i = 0\n",
    "xiImage = xTrain[i].reshape(28,28)\n",
    "plt.imshow(xiImage, cmap='binary')\n",
    "plt.show()"
   ]
  },
  {
   "cell_type": "code",
   "execution_count": 15,
   "id": "a8018faf",
   "metadata": {},
   "outputs": [
    {
     "data": {
      "text/plain": [
       "'4'"
      ]
     },
     "execution_count": 15,
     "metadata": {},
     "output_type": "execute_result"
    }
   ],
   "source": [
    "yTrain[i]"
   ]
  },
  {
   "cell_type": "code",
   "execution_count": 16,
   "id": "e8c7f8a6",
   "metadata": {},
   "outputs": [],
   "source": [
    "#清理與準備訓練資料\n",
    "\n",
    "#資料標準化\n",
    "\n",
    "from sklearn.preprocessing import StandardScaler\n",
    "\n",
    "std = StandardScaler()\n",
    "xTrainPrep = std.fit_transform(xTrain)"
   ]
  },
  {
   "cell_type": "code",
   "execution_count": 17,
   "id": "4bc77666",
   "metadata": {},
   "outputs": [],
   "source": [
    "#訓練與選擇模性\n",
    "#使用交叉驗證\n",
    "\n",
    "from sklearn.model_selection import cross_val_score"
   ]
  },
  {
   "cell_type": "code",
   "execution_count": 20,
   "id": "dfe47ccb",
   "metadata": {},
   "outputs": [
    {
     "data": {
      "text/plain": [
       "array([0.78571429, 0.8       , 0.78571429, 0.88571429, 0.81428571,\n",
       "       0.87142857, 0.85714286, 0.9       , 0.95714286, 0.84285714])"
      ]
     },
     "execution_count": 20,
     "metadata": {},
     "output_type": "execute_result"
    }
   ],
   "source": [
    "#Softmax Regression\n",
    "\n",
    "from sklearn.linear_model import SGDClassifier\n",
    "\n",
    "sgdClf = SGDClassifier(loss='log_loss', random_state=1)\n",
    "sgdScores = cross_val_score(sgdClf, xTrainPrep, yTrain, scoring='accuracy', cv=10)\n",
    "sgdScores"
   ]
  },
  {
   "cell_type": "code",
   "execution_count": 21,
   "id": "fc7cac29",
   "metadata": {},
   "outputs": [
    {
     "data": {
      "text/plain": [
       "(0.85, 0.052779866291174767)"
      ]
     },
     "execution_count": 21,
     "metadata": {},
     "output_type": "execute_result"
    }
   ],
   "source": [
    "sgdScores.mean(), sgdScores.std()"
   ]
  },
  {
   "cell_type": "code",
   "execution_count": 23,
   "id": "ca660eb0",
   "metadata": {},
   "outputs": [
    {
     "data": {
      "text/plain": [
       "array([0.8       , 0.8       , 0.81428571, 0.9       , 0.82857143,\n",
       "       0.84285714, 0.88571429, 0.9       , 0.91428571, 0.87142857])"
      ]
     },
     "execution_count": 23,
     "metadata": {},
     "output_type": "execute_result"
    }
   ],
   "source": [
    "#SVC\n",
    "\n",
    "from sklearn.svm import SVC\n",
    "\n",
    "svcClf = SVC(random_state=1)\n",
    "svcScores = cross_val_score(svcClf, xTrainPrep, yTrain, scoring='accuracy', cv=10)\n",
    "svcScores"
   ]
  },
  {
   "cell_type": "code",
   "execution_count": 24,
   "id": "cf2de09b",
   "metadata": {},
   "outputs": [
    {
     "data": {
      "text/plain": [
       "(0.8557142857142859, 0.04162514938380989)"
      ]
     },
     "execution_count": 24,
     "metadata": {},
     "output_type": "execute_result"
    }
   ],
   "source": [
    "svcScores.mean(), svcScores.std()"
   ]
  },
  {
   "cell_type": "code",
   "execution_count": 26,
   "id": "0aa614b0",
   "metadata": {},
   "outputs": [
    {
     "data": {
      "text/plain": [
       "array([0.83571429, 0.88571429, 0.86428571, 0.90714286, 0.91428571])"
      ]
     },
     "execution_count": 26,
     "metadata": {},
     "output_type": "execute_result"
    }
   ],
   "source": [
    "#RandomForestClassifier\n",
    "\n",
    "from sklearn.ensemble import RandomForestClassifier\n",
    "\n",
    "rfClf = RandomForestClassifier(random_state=1)\n",
    "\n",
    "rfScores = cross_val_score(rfClf, xTrain, yTrain, scoring='accuracy')\n",
    "rfScores"
   ]
  },
  {
   "cell_type": "code",
   "execution_count": 28,
   "id": "b9422427",
   "metadata": {},
   "outputs": [
    {
     "data": {
      "text/plain": [
       "(0.8814285714285715, 0.02878491668515696)"
      ]
     },
     "execution_count": 28,
     "metadata": {},
     "output_type": "execute_result"
    }
   ],
   "source": [
    "rfScores.mean(), rfScores.std()"
   ]
  },
  {
   "cell_type": "code",
   "execution_count": 30,
   "id": "a5563f63",
   "metadata": {},
   "outputs": [],
   "source": [
    "#調整模型\n",
    "\n",
    "#Grid Search\n",
    "\n",
    "from sklearn.model_selection import GridSearchCV"
   ]
  },
  {
   "cell_type": "code",
   "execution_count": 32,
   "id": "27ad0d30",
   "metadata": {},
   "outputs": [
    {
     "data": {
      "text/plain": [
       "{'bootstrap': False, 'max_features': 8, 'n_estimators': 300}"
      ]
     },
     "execution_count": 32,
     "metadata": {},
     "output_type": "execute_result"
    }
   ],
   "source": [
    "paramGrid = [\n",
    "    {'n_estimators': [100, 300, 500], 'max_features': [4, 8, 12]},\n",
    "    {'bootstrap': [False], 'n_estimators':[300, 500], 'max_features':[8, 12]}\n",
    "]\n",
    "\n",
    "rfClf = RandomForestClassifier(random_state=1)\n",
    "\n",
    "gridSearch = GridSearchCV(rfClf, paramGrid, cv=5, scoring='accuracy', return_train_score=True)\n",
    "\n",
    "gridSearch.fit(xTrain, yTrain)\n",
    "gridSearch.best_params_"
   ]
  },
  {
   "cell_type": "code",
   "execution_count": 34,
   "id": "6078f652",
   "metadata": {},
   "outputs": [
    {
     "name": "stdout",
     "output_type": "stream",
     "text": [
      "0.8742857142857142 {'max_features': 4, 'n_estimators': 100}\n",
      "0.8842857142857143 {'max_features': 4, 'n_estimators': 300}\n",
      "0.8800000000000001 {'max_features': 4, 'n_estimators': 500}\n",
      "0.8657142857142857 {'max_features': 8, 'n_estimators': 100}\n",
      "0.8871428571428572 {'max_features': 8, 'n_estimators': 300}\n",
      "0.8828571428571429 {'max_features': 8, 'n_estimators': 500}\n",
      "0.8857142857142858 {'max_features': 12, 'n_estimators': 100}\n",
      "0.8914285714285715 {'max_features': 12, 'n_estimators': 300}\n",
      "0.8842857142857143 {'max_features': 12, 'n_estimators': 500}\n",
      "0.9014285714285715 {'bootstrap': False, 'max_features': 8, 'n_estimators': 300}\n",
      "0.9014285714285715 {'bootstrap': False, 'max_features': 8, 'n_estimators': 500}\n",
      "0.8957142857142857 {'bootstrap': False, 'max_features': 12, 'n_estimators': 300}\n",
      "0.8957142857142857 {'bootstrap': False, 'max_features': 12, 'n_estimators': 500}\n"
     ]
    }
   ],
   "source": [
    "rlt = gridSearch.cv_results_\n",
    "for mean_score, params in zip(rlt['mean_test_score'], rlt['params']):\n",
    "    print(mean_score, params)"
   ]
  },
  {
   "cell_type": "code",
   "execution_count": 35,
   "id": "a68aa391",
   "metadata": {},
   "outputs": [],
   "source": [
    "#Pick the best model\n",
    "\n",
    "bestModel = gridSearch.best_estimator_"
   ]
  },
  {
   "cell_type": "code",
   "execution_count": 37,
   "id": "d7df6d79",
   "metadata": {},
   "outputs": [
    {
     "data": {
      "text/plain": [
       "0.89"
      ]
     },
     "execution_count": 37,
     "metadata": {},
     "output_type": "execute_result"
    }
   ],
   "source": [
    "#驗證與解釋模型\n",
    "\n",
    "#驗證模型\n",
    "#Accuracy Score\n",
    "\n",
    "bestModel. score(xTest, yTest)"
   ]
  },
  {
   "cell_type": "code",
   "execution_count": 38,
   "id": "089aef6e",
   "metadata": {},
   "outputs": [
    {
     "data": {
      "text/plain": [
       "array([[29,  0,  0,  0,  0,  0,  0,  0,  0,  0],\n",
       "       [ 0, 34,  0,  1,  0,  0,  0,  0,  0,  0],\n",
       "       [ 1,  1, 26,  0,  0,  0,  1,  1,  0,  0],\n",
       "       [ 1,  0,  0, 25,  0,  0,  0,  2,  0,  0],\n",
       "       [ 0,  0,  0,  0, 30,  0,  1,  0,  0,  0],\n",
       "       [ 0,  0,  1,  2,  1, 22,  0,  0,  1,  1],\n",
       "       [ 0,  0,  0,  0,  1,  0, 27,  0,  0,  0],\n",
       "       [ 0,  3,  0,  0,  1,  0,  0, 31,  0,  0],\n",
       "       [ 0,  1,  0,  3,  0,  1,  1,  0, 19,  1],\n",
       "       [ 1,  0,  0,  1,  0,  0,  1,  3,  0, 24]])"
      ]
     },
     "execution_count": 38,
     "metadata": {},
     "output_type": "execute_result"
    }
   ],
   "source": [
    "#Confusion Matrix\n",
    "\n",
    "from sklearn.metrics import confusion_matrix\n",
    "\n",
    "yTestPred = bestModel.predict(xTest)\n",
    "conf = confusion_matrix(yTest, yTestPred)\n",
    "conf"
   ]
  },
  {
   "cell_type": "code",
   "execution_count": 40,
   "id": "f11d3158",
   "metadata": {},
   "outputs": [
    {
     "data": {
      "image/png": "[encoded data removed]",
      "text/plain": [
       "<Figure size 480x480 with 1 Axes>"
      ]
     },
     "metadata": {},
     "output_type": "display_data"
    }
   ],
   "source": [
    "rowSums = conf.sum(axis=1, keepdims=True)\n",
    "normConf = conf / rowSums\n",
    "np.fill_diagonal(normConf, 0)\n",
    "plt.matshow(normConf, cmap=plt.cm.gray)\n",
    "plt.show()"
   ]
  },
  {
   "cell_type": "code",
   "execution_count": 41,
   "id": "2e0ac73b",
   "metadata": {},
   "outputs": [],
   "source": [
    "#解釋模型\n",
    "\n",
    "imp = bestModel.feature_importances_"
   ]
  },
  {
   "cell_type": "code",
   "execution_count": 43,
   "id": "83eea5c1",
   "metadata": {},
   "outputs": [
    {
     "data": {
      "image/png": "[encoded data removed]",
      "text/plain": [
       "<Figure size 640x480 with 2 Axes>"
      ]
     },
     "metadata": {},
     "output_type": "display_data"
    }
   ],
   "source": [
    "import matplotlib as mpl\n",
    "\n",
    "plt.imshow(imp.reshape(28, 28), cmap=mpl.cm.hot)\n",
    "cbar = plt.colorbar(ticks=[imp.min(), imp.max()])\n",
    "cbar.ax.set_yticklabels(['Not important', 'Very important'])\n",
    "plt.show()"
   ]
  },
  {
   "cell_type": "code",
   "execution_count": 44,
   "id": "f422c403",
   "metadata": {},
   "outputs": [],
   "source": [
    "#發佈模型\n",
    "\n",
    "#最終模型整合\n",
    "finalModel = bestModel"
   ]
  },
  {
   "cell_type": "code",
   "execution_count": 46,
   "id": "e5a13efd",
   "metadata": {},
   "outputs": [
    {
     "data": {
      "text/plain": [
       "['finalModelClf.pkl']"
      ]
     },
     "execution_count": 46,
     "metadata": {},
     "output_type": "execute_result"
    }
   ],
   "source": [
    "import joblib\n",
    "joblib.dump(finalModel, 'finalModelClf.pkl')"
   ]
  },
  {
   "cell_type": "code",
   "execution_count": 47,
   "id": "563dc897",
   "metadata": {},
   "outputs": [],
   "source": [
    "#讀取與使用模型\n",
    "\n",
    "modelClfLoaded = joblib.load('finalModelClf.pkl')"
   ]
  },
  {
   "cell_type": "code",
   "execution_count": 48,
   "id": "7ad51d44",
   "metadata": {},
   "outputs": [
    {
     "data": {
      "text/plain": [
       "array(['3', '4', '0', '6', '3', '7', '9', '6', '2', '3'], dtype=object)"
      ]
     },
     "execution_count": 48,
     "metadata": {},
     "output_type": "execute_result"
    }
   ],
   "source": [
    "modelClfLoaded.predict(xTest[:10])"
   ]
  },
  {
   "cell_type": "code",
   "execution_count": null,
   "id": "be4ce15f",
   "metadata": {},
   "outputs": [],
   "source": []
  }
 ],
 "metadata": {
  "kernelspec": {
   "display_name": "Python 3 (ipykernel)",
   "language": "python",
   "name": "python3"
  },
  "language_info": {
   "codemirror_mode": {
    "name": "ipython",
    "version": 3
   },
   "file_extension": ".py",
   "mimetype": "text/x-python",
   "name": "python",
   "nbconvert_exporter": "python",
   "pygments_lexer": "ipython3",
   "version": "3.11.5"
  }
 },
 "nbformat": 4,
 "nbformat_minor": 5
}
