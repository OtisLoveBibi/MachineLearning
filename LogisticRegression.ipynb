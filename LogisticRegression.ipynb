{
 "cells": [
  {
   "cell_type": "code",
   "execution_count": 1,
   "id": "a2813fc1",
   "metadata": {},
   "outputs": [],
   "source": [
    "import numpy as np\n",
    "import matplotlib.pyplot as plt"
   ]
  },
  {
   "cell_type": "code",
   "execution_count": 2,
   "id": "99abedfe",
   "metadata": {},
   "outputs": [],
   "source": [
    "#資料生成\n",
    "\n",
    "from sklearn import datasets\n",
    "iris = datasets.load_iris()"
   ]
  },
  {
   "cell_type": "code",
   "execution_count": 3,
   "id": "19734140",
   "metadata": {},
   "outputs": [
    {
     "data": {
      "text/plain": [
       "dict_keys(['data', 'target', 'frame', 'target_names', 'DESCR', 'feature_names', 'filename', 'data_module'])"
      ]
     },
     "execution_count": 3,
     "metadata": {},
     "output_type": "execute_result"
    }
   ],
   "source": [
    "iris.keys()"
   ]
  },
  {
   "cell_type": "code",
   "execution_count": 4,
   "id": "1d79ce37",
   "metadata": {},
   "outputs": [
    {
     "data": {
      "text/plain": [
       "array([0, 0, 0, 0, 0, 0, 0, 0, 0, 0, 0, 0, 0, 0, 0, 0, 0, 0, 0, 0, 0, 0,\n",
       "       0, 0, 0, 0, 0, 0, 0, 0, 0, 0, 0, 0, 0, 0, 0, 0, 0, 0, 0, 0, 0, 0,\n",
       "       0, 0, 0, 0, 0, 0, 1, 1, 1, 1, 1, 1, 1, 1, 1, 1, 1, 1, 1, 1, 1, 1,\n",
       "       1, 1, 1, 1, 1, 1, 1, 1, 1, 1, 1, 1, 1, 1, 1, 1, 1, 1, 1, 1, 1, 1,\n",
       "       1, 1, 1, 1, 1, 1, 1, 1, 1, 1, 1, 1, 2, 2, 2, 2, 2, 2, 2, 2, 2, 2,\n",
       "       2, 2, 2, 2, 2, 2, 2, 2, 2, 2, 2, 2, 2, 2, 2, 2, 2, 2, 2, 2, 2, 2,\n",
       "       2, 2, 2, 2, 2, 2, 2, 2, 2, 2, 2, 2, 2, 2, 2, 2, 2, 2])"
      ]
     },
     "execution_count": 4,
     "metadata": {},
     "output_type": "execute_result"
    }
   ],
   "source": [
    "#呼叫資料內的Label\n",
    "\n",
    "iris['target']"
   ]
  },
  {
   "cell_type": "code",
   "execution_count": 5,
   "id": "8fc753c4",
   "metadata": {},
   "outputs": [
    {
     "data": {
      "text/plain": [
       "array(['setosa', 'versicolor', 'virginica'], dtype='<U10')"
      ]
     },
     "execution_count": 5,
     "metadata": {},
     "output_type": "execute_result"
    }
   ],
   "source": [
    "iris['target_names']"
   ]
  },
  {
   "cell_type": "code",
   "execution_count": 6,
   "id": "6001138f",
   "metadata": {},
   "outputs": [
    {
     "data": {
      "text/plain": [
       "array([[5.1, 3.5, 1.4, 0.2],\n",
       "       [4.9, 3. , 1.4, 0.2],\n",
       "       [4.7, 3.2, 1.3, 0.2],\n",
       "       [4.6, 3.1, 1.5, 0.2],\n",
       "       [5. , 3.6, 1.4, 0.2]])"
      ]
     },
     "execution_count": 6,
     "metadata": {},
     "output_type": "execute_result"
    }
   ],
   "source": [
    "#Features\n",
    "iris['data'][:5]"
   ]
  },
  {
   "cell_type": "code",
   "execution_count": 7,
   "id": "5f40294a",
   "metadata": {},
   "outputs": [
    {
     "data": {
      "text/plain": [
       "['sepal length (cm)',\n",
       " 'sepal width (cm)',\n",
       " 'petal length (cm)',\n",
       " 'petal width (cm)']"
      ]
     },
     "execution_count": 7,
     "metadata": {},
     "output_type": "execute_result"
    }
   ],
   "source": [
    "iris['feature_names']"
   ]
  },
  {
   "cell_type": "code",
   "execution_count": 9,
   "id": "00b2e667",
   "metadata": {},
   "outputs": [],
   "source": [
    "x = iris['data'][:, 0].reshape(-1,1)   #Sepal length\n",
    "y = (iris['target'] == 0).astype(np.int64)   #Setosa，將T,F轉成整數"
   ]
  },
  {
   "cell_type": "code",
   "execution_count": 10,
   "id": "2e93aa6d",
   "metadata": {},
   "outputs": [
    {
     "data": {
      "text/plain": [
       "array([[5.1],\n",
       "       [4.9],\n",
       "       [4.7]])"
      ]
     },
     "execution_count": 10,
     "metadata": {},
     "output_type": "execute_result"
    }
   ],
   "source": [
    "x[:3]"
   ]
  },
  {
   "cell_type": "code",
   "execution_count": 11,
   "id": "116b4436",
   "metadata": {},
   "outputs": [
    {
     "data": {
      "text/plain": [
       "array([1, 1, 1, 1, 1, 1, 1, 1, 1, 1, 1, 1, 1, 1, 1, 1, 1, 1, 1, 1, 1, 1,\n",
       "       1, 1, 1, 1, 1, 1, 1, 1, 1, 1, 1, 1, 1, 1, 1, 1, 1, 1, 1, 1, 1, 1,\n",
       "       1, 1, 1, 1, 1, 1, 0, 0, 0, 0, 0, 0, 0, 0, 0, 0, 0, 0, 0, 0, 0, 0,\n",
       "       0, 0, 0, 0, 0, 0, 0, 0, 0, 0, 0, 0, 0, 0, 0, 0, 0, 0, 0, 0, 0, 0,\n",
       "       0, 0, 0, 0, 0, 0, 0, 0, 0, 0, 0, 0, 0, 0, 0, 0, 0, 0, 0, 0, 0, 0,\n",
       "       0, 0, 0, 0, 0, 0, 0, 0, 0, 0, 0, 0, 0, 0, 0, 0, 0, 0, 0, 0, 0, 0,\n",
       "       0, 0, 0, 0, 0, 0, 0, 0, 0, 0, 0, 0, 0, 0, 0, 0, 0, 0])"
      ]
     },
     "execution_count": 11,
     "metadata": {},
     "output_type": "execute_result"
    }
   ],
   "source": [
    "y"
   ]
  },
  {
   "cell_type": "code",
   "execution_count": 12,
   "id": "40c7f133",
   "metadata": {},
   "outputs": [
    {
     "data": {
      "text/plain": [
       "(array([18.5455613]), array([[-3.45772499]]))"
      ]
     },
     "execution_count": 12,
     "metadata": {},
     "output_type": "execute_result"
    }
   ],
   "source": [
    "#使用LogisticRegression()\n",
    "\n",
    "from sklearn.linear_model import LogisticRegression\n",
    "\n",
    "logReg = LogisticRegression(solver='lbfgs', C=1, random_state=1)\n",
    "logReg.fit(x,y)\n",
    "logReg.intercept_, logReg.coef_"
   ]
  },
  {
   "cell_type": "code",
   "execution_count": 15,
   "id": "ed643fa5",
   "metadata": {},
   "outputs": [
    {
     "data": {
      "text/plain": [
       "0.8933333333333333"
      ]
     },
     "execution_count": 15,
     "metadata": {},
     "output_type": "execute_result"
    }
   ],
   "source": [
    "logReg.score(x,y)"
   ]
  },
  {
   "cell_type": "code",
   "execution_count": 17,
   "id": "92a18c69",
   "metadata": {},
   "outputs": [
    {
     "data": {
      "text/plain": [
       "array([1, 0])"
      ]
     },
     "execution_count": 17,
     "metadata": {},
     "output_type": "execute_result"
    }
   ],
   "source": [
    "xNew = [[5],[6.5]]\n",
    "\n",
    "logReg.predict(xNew)"
   ]
  },
  {
   "cell_type": "code",
   "execution_count": 18,
   "id": "4e090506",
   "metadata": {},
   "outputs": [
    {
     "data": {
      "text/plain": [
       "array([[0.22150173, 0.77849827],\n",
       "       [0.98072817, 0.01927183]])"
      ]
     },
     "execution_count": 18,
     "metadata": {},
     "output_type": "execute_result"
    }
   ],
   "source": [
    "logReg.predict_proba(xNew)"
   ]
  },
  {
   "cell_type": "code",
   "execution_count": 22,
   "id": "f2404510",
   "metadata": {},
   "outputs": [
    {
     "data": {
      "text/plain": [
       "(array([321.68580859]), array([[-61.90239437]]))"
      ]
     },
     "execution_count": 22,
     "metadata": {},
     "output_type": "execute_result"
    }
   ],
   "source": [
    "#使用SGDClassifier()\n",
    "\n",
    "from sklearn.linear_model import SGDClassifier\n",
    "\n",
    "sgdClf = SGDClassifier(loss='log_loss', penalty='l2', alpha=0.0001, random_state=1)\n",
    "\n",
    "sgdClf.fit(x,y)\n",
    "sgdClf.intercept_, sgdClf.coef_"
   ]
  },
  {
   "cell_type": "code",
   "execution_count": 23,
   "id": "5eb05363",
   "metadata": {},
   "outputs": [
    {
     "data": {
      "text/plain": [
       "0.8733333333333333"
      ]
     },
     "execution_count": 23,
     "metadata": {},
     "output_type": "execute_result"
    }
   ],
   "source": [
    "sgdClf.score(x,y)"
   ]
  },
  {
   "cell_type": "code",
   "execution_count": 24,
   "id": "2e9d14b7",
   "metadata": {},
   "outputs": [
    {
     "data": {
      "text/plain": [
       "array([1, 0])"
      ]
     },
     "execution_count": 24,
     "metadata": {},
     "output_type": "execute_result"
    }
   ],
   "source": [
    "xNew = [[5],[6.5]]\n",
    "sgdClf.predict(xNew)"
   ]
  },
  {
   "cell_type": "code",
   "execution_count": 25,
   "id": "8c40c24c",
   "metadata": {},
   "outputs": [
    {
     "data": {
      "text/plain": [
       "array([[5.16377895e-06, 9.99994836e-01],\n",
       "       [1.00000000e+00, 9.14592585e-36]])"
      ]
     },
     "execution_count": 25,
     "metadata": {},
     "output_type": "execute_result"
    }
   ],
   "source": [
    "sgdClf.predict_proba(xNew)"
   ]
  },
  {
   "cell_type": "code",
   "execution_count": 26,
   "id": "ad152b26",
   "metadata": {},
   "outputs": [
    {
     "data": {
      "text/plain": [
       "array([[5.36351542]])"
      ]
     },
     "execution_count": 26,
     "metadata": {},
     "output_type": "execute_result"
    }
   ],
   "source": [
    "#Decision Boundary\n",
    "# h=0, i.e. h = b+w1x1 =0 => x1=-b/w1\n",
    "\n",
    "decisionBoundary = -logReg.intercept_ / logReg.coef_\n",
    "decisionBoundary"
   ]
  },
  {
   "cell_type": "code",
   "execution_count": 28,
   "id": "e637b269",
   "metadata": {},
   "outputs": [
    {
     "data": {
      "image/png": "[encoded data removed]",
      "text/plain": [
       "<Figure size 800x300 with 1 Axes>"
      ]
     },
     "metadata": {},
     "output_type": "display_data"
    }
   ],
   "source": [
    "#Plot of the decision boundary\n",
    "\n",
    "xs = np.linspace(3, 9, 100).reshape(-1, 1)\n",
    "yProba = logReg.predict_proba(xs)\n",
    "\n",
    "plt.figure(figsize=(8, 3))\n",
    "plt.plot(x[y==1], y[y==1], 'b.', label='Setosa')\n",
    "plt.plot(x[y==0], y[y==0], 'rx', label='Not Setosa')\n",
    "\n",
    "plt.plot(xs, yProba[:, 0],'r:')\n",
    "plt.plot(xs, yProba[:, 1],'b:')\n",
    "\n",
    "plt.plot([decisionBoundary[0], decisionBoundary[0]],[0, 1], 'k--', label='Boundary')\n",
    "\n",
    "plt.xlabel('$x_1$', fontsize=14)\n",
    "plt.ylabel('$\\hat p$', fontsize=14)\n",
    "plt.legend(loc='center right', fontsize=14)\n",
    "\n",
    "plt.show()"
   ]
  },
  {
   "cell_type": "code",
   "execution_count": 29,
   "id": "f7a650fe",
   "metadata": {},
   "outputs": [],
   "source": [
    "x = iris['data'][:, :2]   #Sepal length,Sepal width\n",
    "y = (iris['target'] == 0).astype(np.int64)   #Setosa"
   ]
  },
  {
   "cell_type": "code",
   "execution_count": 30,
   "id": "8b558042",
   "metadata": {},
   "outputs": [
    {
     "data": {
      "text/plain": [
       "array([[5.1, 3.5],\n",
       "       [4.9, 3. ],\n",
       "       [4.7, 3.2]])"
      ]
     },
     "execution_count": 30,
     "metadata": {},
     "output_type": "execute_result"
    }
   ],
   "source": [
    "x[:3]"
   ]
  },
  {
   "cell_type": "code",
   "execution_count": 31,
   "id": "336d3ab3",
   "metadata": {},
   "outputs": [
    {
     "data": {
      "text/plain": [
       "array([1, 1, 1, 1, 1, 1, 1, 1, 1, 1, 1, 1, 1, 1, 1, 1, 1, 1, 1, 1, 1, 1,\n",
       "       1, 1, 1, 1, 1, 1, 1, 1, 1, 1, 1, 1, 1, 1, 1, 1, 1, 1, 1, 1, 1, 1,\n",
       "       1, 1, 1, 1, 1, 1, 0, 0, 0, 0, 0, 0, 0, 0, 0, 0, 0, 0, 0, 0, 0, 0,\n",
       "       0, 0, 0, 0, 0, 0, 0, 0, 0, 0, 0, 0, 0, 0, 0, 0, 0, 0, 0, 0, 0, 0,\n",
       "       0, 0, 0, 0, 0, 0, 0, 0, 0, 0, 0, 0, 0, 0, 0, 0, 0, 0, 0, 0, 0, 0,\n",
       "       0, 0, 0, 0, 0, 0, 0, 0, 0, 0, 0, 0, 0, 0, 0, 0, 0, 0, 0, 0, 0, 0,\n",
       "       0, 0, 0, 0, 0, 0, 0, 0, 0, 0, 0, 0, 0, 0, 0, 0, 0, 0])"
      ]
     },
     "execution_count": 31,
     "metadata": {},
     "output_type": "execute_result"
    }
   ],
   "source": [
    "y"
   ]
  },
  {
   "cell_type": "code",
   "execution_count": 33,
   "id": "a82a68fa",
   "metadata": {},
   "outputs": [
    {
     "data": {
      "text/plain": [
       "(array([8.32330389]), array([[-3.38829757,  3.1645277 ]]))"
      ]
     },
     "execution_count": 33,
     "metadata": {},
     "output_type": "execute_result"
    }
   ],
   "source": [
    "logReg = LogisticRegression(solver='lbfgs', C=1, random_state=42)\n",
    "logReg.fit(x,y)\n",
    "logReg.intercept_,logReg.coef_"
   ]
  },
  {
   "cell_type": "code",
   "execution_count": 34,
   "id": "38c87c7e",
   "metadata": {},
   "outputs": [
    {
     "data": {
      "text/plain": [
       "1.0"
      ]
     },
     "execution_count": 34,
     "metadata": {},
     "output_type": "execute_result"
    }
   ],
   "source": [
    "logReg.score(x,y)"
   ]
  },
  {
   "cell_type": "code",
   "execution_count": 35,
   "id": "3c9727cb",
   "metadata": {},
   "outputs": [
    {
     "data": {
      "text/plain": [
       "array([0, 1])"
      ]
     },
     "execution_count": 35,
     "metadata": {},
     "output_type": "execute_result"
    }
   ],
   "source": [
    "xNew = [[5.5,2.8],[4.5,3.25]]\n",
    "logReg.predict(xNew)"
   ]
  },
  {
   "cell_type": "code",
   "execution_count": 36,
   "id": "bef34c29",
   "metadata": {},
   "outputs": [
    {
     "data": {
      "text/plain": [
       "array([[0.81025304, 0.18974696],\n",
       "       [0.03354717, 0.96645283]])"
      ]
     },
     "execution_count": 36,
     "metadata": {},
     "output_type": "execute_result"
    }
   ],
   "source": [
    "logReg.predict_proba(xNew)"
   ]
  },
  {
   "cell_type": "code",
   "execution_count": 37,
   "id": "8345f5e9",
   "metadata": {},
   "outputs": [
    {
     "data": {
      "text/plain": [
       "array([[4.25      , 1.92033737],\n",
       "       [5.175     , 2.9107459 ],\n",
       "       [6.1       , 3.90115444],\n",
       "       [7.025     , 4.89156298],\n",
       "       [7.95      , 5.88197152]])"
      ]
     },
     "execution_count": 37,
     "metadata": {},
     "output_type": "execute_result"
    }
   ],
   "source": [
    "#Decision Boundary\n",
    "#h = b+w1x1+w2x2 = 0 => x2=-(b+w1x1)/w2 =>(x1,x2), where x2=-(b+w1x1)/w2\n",
    "\n",
    "x1Boundary = np.linspace(x.min(axis=0)[0]-0.05, x.max(axis=0)[0]+0.05,5)\n",
    "x2Boundary = -(logReg.intercept_[0] + logReg.coef_[0][0] * x1Boundary) / logReg.coef_[0][1]\n",
    "\n",
    "boundary = np.c_[x1Boundary, x2Boundary]\n",
    "boundary"
   ]
  },
  {
   "cell_type": "code",
   "execution_count": 43,
   "id": "cef75d9b",
   "metadata": {},
   "outputs": [
    {
     "data": {
      "image/png": "[encoded data removed]",
      "text/plain": [
       "<Figure size 800x300 with 1 Axes>"
      ]
     },
     "metadata": {},
     "output_type": "display_data"
    }
   ],
   "source": [
    "#Plot of the decision boundary\n",
    "\n",
    "x1s = np.linspace(4.2, 8, 100).reshape(-1,1)\n",
    "x2s = np.linspace(1.5, 6, 100).reshape(-1,1)\n",
    "\n",
    "x1, x2 = np.meshgrid(x1s, x2s)\n",
    "xNew = np.c_[x1.ravel(), x2.ravel()]\n",
    "yPred = logReg.predict(xNew)\n",
    "\n",
    "plt.figure(figsize=(8, 3))\n",
    "plt.plot(x[y==1, 0], x[y==1, 1], 'b.', label='Setosa')\n",
    "plt.plot(x[y==0, 0], x[y==0, 1], 'rx', label='Not Setosa')\n",
    "\n",
    "zz = yPred.reshape(x1.shape)\n",
    "plt.contourf(x1, x2, zz, alpha=0.2)\n",
    "plt.plot(boundary[:, 0], boundary[:, 1], 'k--', label='Boundary')\n",
    "\n",
    "plt.xlabel('$x_1$', fontsize=14)\n",
    "plt.ylabel('$x_2$', rotation=0, fontsize=14)\n",
    "plt.legend(loc='upper left', fontsize=12)\n",
    "\n",
    "plt.show()"
   ]
  },
  {
   "cell_type": "code",
   "execution_count": null,
   "id": "ebd826c6",
   "metadata": {},
   "outputs": [],
   "source": []
  }
 ],
 "metadata": {
  "kernelspec": {
   "display_name": "Python 3 (ipykernel)",
   "language": "python",
   "name": "python3"
  },
  "language_info": {
   "codemirror_mode": {
    "name": "ipython",
    "version": 3
   },
   "file_extension": ".py",
   "mimetype": "text/x-python",
   "name": "python",
   "nbconvert_exporter": "python",
   "pygments_lexer": "ipython3",
   "version": "3.11.4"
  }
 },
 "nbformat": 4,
 "nbformat_minor": 5
}
