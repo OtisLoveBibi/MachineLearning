{
 "cells": [
  {
   "cell_type": "code",
   "execution_count": 2,
   "metadata": {},
   "outputs": [],
   "source": [
    "import numpy as np\n",
    "import pandas as pd \n",
    "import matplotlib.pyplot as plt"
   ]
  },
  {
   "cell_type": "code",
   "execution_count": 13,
   "metadata": {},
   "outputs": [],
   "source": [
    "from tensorflow import keras\n",
    "from keras.datasets import boston_housing\n",
    "(xTrainSet, yTrainSet), (xTest, yTest) = boston_housing.load_data()"
   ]
  },
  {
   "cell_type": "markdown",
   "metadata": {},
   "source": [
    "Check Data"
   ]
  },
  {
   "cell_type": "code",
   "execution_count": 14,
   "metadata": {},
   "outputs": [
    {
     "data": {
      "text/plain": [
       "((404, 13), (404,), (102, 13), (102,))"
      ]
     },
     "execution_count": 14,
     "metadata": {},
     "output_type": "execute_result"
    }
   ],
   "source": [
    "xTrainSet.shape, yTrainSet.shape, xTest.shape, yTest.shape"
   ]
  },
  {
   "cell_type": "code",
   "execution_count": 16,
   "metadata": {},
   "outputs": [],
   "source": [
    "from sklearn.model_selection import train_test_split\n",
    "\n",
    "xTrain, xValid, yTrain, yValid = train_test_split(xTrainSet, yTrainSet, random_state=1)"
   ]
  },
  {
   "cell_type": "code",
   "execution_count": 18,
   "metadata": {},
   "outputs": [],
   "source": [
    "from sklearn.preprocessing import StandardScaler\n",
    "\n",
    "scal = StandardScaler()\n",
    "\n",
    "xTrain = scal.fit_transform(xTrain)\n",
    "\n",
    "xValid = scal.transform(xValid)\n",
    "xTest = scal.transform(xTest)"
   ]
  },
  {
   "cell_type": "markdown",
   "metadata": {},
   "source": [
    "Build Model"
   ]
  },
  {
   "cell_type": "code",
   "execution_count": 20,
   "metadata": {},
   "outputs": [],
   "source": [
    "import tensorflow as tf \n",
    "from tensorflow import keras\n",
    "from tensorflow.keras.models import Sequential\n",
    "from tensorflow.keras.layers import Dense\n",
    "from tensorflow.keras.optimizers import SGD\n",
    "\n",
    "keras.backend.clear_session()\n",
    "np.random.seed(1)\n",
    "tf.random.set_seed(1)"
   ]
  },
  {
   "cell_type": "code",
   "execution_count": 24,
   "metadata": {},
   "outputs": [],
   "source": [
    "model = Sequential()\n",
    "model.add(Dense(units=100, activation='relu', input_shape=xTrain.shape[1:]))\n",
    "model.add(Dense(units=50, activation='relu'))\n",
    "model.add(Dense(units=1))"
   ]
  },
  {
   "cell_type": "markdown",
   "metadata": {},
   "source": [
    "Check Model"
   ]
  },
  {
   "cell_type": "code",
   "execution_count": 25,
   "metadata": {},
   "outputs": [
    {
     "name": "stdout",
     "output_type": "stream",
     "text": [
      "Model: \"sequential_2\"\n",
      "_________________________________________________________________\n",
      " Layer (type)                Output Shape              Param #   \n",
      "=================================================================\n",
      " dense_3 (Dense)             (None, 100)               1400      \n",
      "                                                                 \n",
      " dense_4 (Dense)             (None, 50)                5050      \n",
      "                                                                 \n",
      " dense_5 (Dense)             (None, 1)                 51        \n",
      "                                                                 \n",
      "=================================================================\n",
      "Total params: 6501 (25.39 KB)\n",
      "Trainable params: 6501 (25.39 KB)\n",
      "Non-trainable params: 0 (0.00 Byte)\n",
      "_________________________________________________________________\n"
     ]
    }
   ],
   "source": [
    "model.summary()"
   ]
  },
  {
   "cell_type": "markdown",
   "metadata": {},
   "source": [
    "Get weights and bias"
   ]
  },
  {
   "cell_type": "code",
   "execution_count": 26,
   "metadata": {},
   "outputs": [],
   "source": [
    "weights, biases = model.layers[1]. get_weights()"
   ]
  },
  {
   "cell_type": "code",
   "execution_count": 27,
   "metadata": {},
   "outputs": [
    {
     "data": {
      "text/plain": [
       "((50,),\n",
       " array([0., 0., 0., 0., 0., 0., 0., 0., 0., 0., 0., 0., 0., 0., 0., 0., 0.,\n",
       "        0., 0., 0., 0., 0., 0., 0., 0., 0., 0., 0., 0., 0., 0., 0., 0., 0.,\n",
       "        0., 0., 0., 0., 0., 0., 0., 0., 0., 0., 0., 0., 0., 0., 0., 0.],\n",
       "       dtype=float32))"
      ]
     },
     "execution_count": 27,
     "metadata": {},
     "output_type": "execute_result"
    }
   ],
   "source": [
    "biases.shape, biases"
   ]
  },
  {
   "cell_type": "code",
   "execution_count": 28,
   "metadata": {},
   "outputs": [
    {
     "data": {
      "text/plain": [
       "((100, 50),\n",
       " array([[-0.03756662,  0.03855625,  0.17310132, ...,  0.00995211,\n",
       "         -0.03724761,  0.06403627],\n",
       "        [-0.19963585,  0.09238248,  0.13323231, ...,  0.04460445,\n",
       "         -0.06667599, -0.10682449],\n",
       "        [-0.02479196, -0.07966628,  0.16019936, ..., -0.19557853,\n",
       "         -0.05748077,  0.0286034 ],\n",
       "        ...,\n",
       "        [ 0.101189  , -0.03993373, -0.19848037, ..., -0.08514853,\n",
       "         -0.10566545, -0.14789534],\n",
       "        [ 0.00579476, -0.07346773, -0.15504245, ...,  0.1417038 ,\n",
       "          0.1824625 , -0.00440755],\n",
       "        [ 0.00457206,  0.03229813,  0.10519563, ..., -0.06673694,\n",
       "         -0.03852168,  0.06125988]], dtype=float32))"
      ]
     },
     "execution_count": 28,
     "metadata": {},
     "output_type": "execute_result"
    }
   ],
   "source": [
    "weights.shape, weights"
   ]
  },
  {
   "cell_type": "markdown",
   "metadata": {},
   "source": [
    "compile"
   ]
  },
  {
   "cell_type": "code",
   "execution_count": 29,
   "metadata": {},
   "outputs": [
    {
     "name": "stderr",
     "output_type": "stream",
     "text": [
      "WARNING:absl:At this time, the v2.11+ optimizer `tf.keras.optimizers.SGD` runs slowly on M1/M2 Macs, please use the legacy Keras optimizer instead, located at `tf.keras.optimizers.legacy.SGD`.\n"
     ]
    }
   ],
   "source": [
    "model.compile(loss='mse', optimizer=SGD(learning_rate=1e-3))"
   ]
  },
  {
   "cell_type": "markdown",
   "metadata": {},
   "source": [
    "Train"
   ]
  },
  {
   "cell_type": "code",
   "execution_count": 30,
   "metadata": {},
   "outputs": [
    {
     "name": "stdout",
     "output_type": "stream",
     "text": [
      "Epoch 1/20\n",
      "10/10 [==============================] - 0s 7ms/step - loss: 538.7944 - val_loss: 421.7339\n",
      "Epoch 2/20\n",
      "10/10 [==============================] - 0s 2ms/step - loss: 248.6994 - val_loss: 98.2774\n",
      "Epoch 3/20\n",
      "10/10 [==============================] - 0s 2ms/step - loss: 58.6807 - val_loss: 50.3724\n",
      "Epoch 4/20\n",
      "10/10 [==============================] - 0s 2ms/step - loss: 32.2260 - val_loss: 34.8529\n",
      "Epoch 5/20\n",
      "10/10 [==============================] - 0s 2ms/step - loss: 24.3127 - val_loss: 28.1113\n",
      "Epoch 6/20\n",
      "10/10 [==============================] - 0s 2ms/step - loss: 20.9688 - val_loss: 24.6916\n",
      "Epoch 7/20\n",
      "10/10 [==============================] - 0s 2ms/step - loss: 18.9390 - val_loss: 21.8786\n",
      "Epoch 8/20\n",
      "10/10 [==============================] - 0s 2ms/step - loss: 17.4471 - val_loss: 20.1630\n",
      "Epoch 9/20\n",
      "10/10 [==============================] - 0s 2ms/step - loss: 16.1077 - val_loss: 18.1742\n",
      "Epoch 10/20\n",
      "10/10 [==============================] - 0s 2ms/step - loss: 14.7640 - val_loss: 16.3911\n",
      "Epoch 11/20\n",
      "10/10 [==============================] - 0s 2ms/step - loss: 14.1794 - val_loss: 15.7544\n",
      "Epoch 12/20\n",
      "10/10 [==============================] - 0s 2ms/step - loss: 13.3345 - val_loss: 15.2565\n",
      "Epoch 13/20\n",
      "10/10 [==============================] - 0s 2ms/step - loss: 12.7948 - val_loss: 14.4038\n",
      "Epoch 14/20\n",
      "10/10 [==============================] - 0s 2ms/step - loss: 12.1670 - val_loss: 14.1186\n",
      "Epoch 15/20\n",
      "10/10 [==============================] - 0s 2ms/step - loss: 11.6514 - val_loss: 14.0417\n",
      "Epoch 16/20\n",
      "10/10 [==============================] - 0s 2ms/step - loss: 11.8308 - val_loss: 13.4377\n",
      "Epoch 17/20\n",
      "10/10 [==============================] - 0s 2ms/step - loss: 11.1675 - val_loss: 13.4784\n",
      "Epoch 18/20\n",
      "10/10 [==============================] - 0s 2ms/step - loss: 10.7523 - val_loss: 13.8326\n",
      "Epoch 19/20\n",
      "10/10 [==============================] - 0s 2ms/step - loss: 10.6736 - val_loss: 13.3107\n",
      "Epoch 20/20\n",
      "10/10 [==============================] - 0s 2ms/step - loss: 10.2427 - val_loss: 12.9198\n"
     ]
    }
   ],
   "source": [
    "train = model.fit(xTrain, yTrain, epochs=20, validation_data=(xValid, yValid))"
   ]
  },
  {
   "cell_type": "code",
   "execution_count": 32,
   "metadata": {},
   "outputs": [
    {
     "data": {
      "image/png": "[encoded data removed]",
      "text/plain": [
       "<Figure size 640x480 with 1 Axes>"
      ]
     },
     "metadata": {},
     "output_type": "display_data"
    }
   ],
   "source": [
    "pd.DataFrame(train.history).plot()\n",
    "plt.grid(True)\n",
    "plt.show()"
   ]
  },
  {
   "cell_type": "markdown",
   "metadata": {},
   "source": [
    "Evaluate"
   ]
  },
  {
   "cell_type": "code",
   "execution_count": 33,
   "metadata": {},
   "outputs": [
    {
     "name": "stdout",
     "output_type": "stream",
     "text": [
      "4/4 [==============================] - 0s 2ms/step - loss: 24.5796\n"
     ]
    },
    {
     "data": {
      "text/plain": [
       "24.579633712768555"
      ]
     },
     "execution_count": 33,
     "metadata": {},
     "output_type": "execute_result"
    }
   ],
   "source": [
    "model.evaluate(xTest, yTest)"
   ]
  },
  {
   "cell_type": "markdown",
   "metadata": {},
   "source": [
    "Predict"
   ]
  },
  {
   "cell_type": "code",
   "execution_count": 34,
   "metadata": {},
   "outputs": [
    {
     "name": "stdout",
     "output_type": "stream",
     "text": [
      "1/1 [==============================] - 0s 33ms/step\n"
     ]
    },
    {
     "data": {
      "text/plain": [
       "array([[ 7.6413565],\n",
       "       [16.503714 ],\n",
       "       [21.387808 ]], dtype=float32)"
      ]
     },
     "execution_count": 34,
     "metadata": {},
     "output_type": "execute_result"
    }
   ],
   "source": [
    "model.predict(xTest[:3])"
   ]
  },
  {
   "cell_type": "code",
   "execution_count": 35,
   "metadata": {},
   "outputs": [
    {
     "data": {
      "text/plain": [
       "array([ 7.2, 18.8, 19. ])"
      ]
     },
     "execution_count": 35,
     "metadata": {},
     "output_type": "execute_result"
    }
   ],
   "source": [
    "yTest[:3]"
   ]
  },
  {
   "cell_type": "code",
   "execution_count": null,
   "metadata": {},
   "outputs": [],
   "source": []
  }
 ],
 "metadata": {
  "kernelspec": {
   "display_name": "Python 3 (ipykernel)",
   "language": "python",
   "name": "python3"
  },
  "language_info": {
   "codemirror_mode": {
    "name": "ipython",
    "version": 3
   },
   "file_extension": ".py",
   "mimetype": "text/x-python",
   "name": "python",
   "nbconvert_exporter": "python",
   "pygments_lexer": "ipython3",
   "version": "3.11.5"
  }
 },
 "nbformat": 4,
 "nbformat_minor": 2
}
